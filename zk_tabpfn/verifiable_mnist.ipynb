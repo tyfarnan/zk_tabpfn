{
 "cells": [
  {
   "cell_type": "markdown",
   "metadata": {},
   "source": [
    "# Build a Verifiable Neural Network with Giza Actions"
   ]
  },
  {
   "cell_type": "markdown",
   "metadata": {},
   "source": [
    "Giza Actions provides developers with the tools to easily create and expand Verifiable Machine Learning solutions, transforming their Python scripts and ML models into robust, repeatable workflows. Models developed using the Action SDK possess a verifiable property, enabling you to encapsulate your model within a Zero-Knowledge cryptographic layer, thereby ensuring the integrity of the inference.\n",
    "\n",
    "In this tutorial, we will explore the process of building your first Neural Network using MNIST dataset, [Pytorch](https://pytorch.org/), and Giza Action SDK and demonstrating its verifiability."
   ]
  },
  {
   "cell_type": "markdown",
   "metadata": {},
   "source": [
    "# What is MNIST dataset?"
   ]
  },
  {
   "cell_type": "markdown",
   "metadata": {},
   "source": [
    "The MNIST dataset is an extensive collection of handwritten digits, very popular in the field of image processing. Often, it's used as a reference point for machine learning algorithms. This dataset conveniently comes already partitioned into training and testing sets, a feature we'll delve into later in this tutorial.\n",
    "\n",
    "The MNIST database comprises a collection of 70,000 images of handwritten digits, ranging from 0 to 9. Each image measures 28 x 28 pixels. For the purpose of this tutorial, we will resize image to 14 x 14 pixels.\n",
    "\n",
    "![MNIST Dataset illustration](./imgs/mnist_dataset_illustration.png)"
   ]
  },
  {
   "cell_type": "markdown",
   "metadata": {},
   "source": [
    "# Login to Giza and create a Workspace"
   ]
  },
  {
   "cell_type": "code",
   "execution_count": 1,
   "metadata": {},
   "outputs": [
    {
     "name": "stdout",
     "output_type": "stream",
     "text": [
      "https://api-dev.gizatech.xyz\n"
     ]
    }
   ],
   "source": [
    "# TODO: remove this cell when it deploys on main branch\n",
    "\n",
    "import os\n",
    "import uuid\n",
    "\n",
    "os.environ['GIZA_API_HOST'] = 'https://api-dev.gizatech.xyz'\n",
    "print(os.environ['GIZA_API_HOST'])\n"
   ]
  },
  {
   "cell_type": "markdown",
   "metadata": {},
   "source": [
    "Before we begin, it's important to note that since we will be using Giza tools, you need to log in to the Giza platform. To do this, we recommend following these steps to install the Giza CLI, create a user, and generate API keys:\n",
    "\n",
    "```bash\n",
    "$ pipx install giza-cli\n",
    "$ giza users create\n",
    "$ giza users login\n",
    "$ giza users create-api-key\n",
    "```\n",
    "\n",
    "For more detailed information about `login`, please refer to the [Giza-CLI documentation](https://cli.gizatech.xyz/welcome/readme)."
   ]
  },
  {
   "cell_type": "markdown",
   "metadata": {},
   "source": [
    "If you haven't already created a workspace associated with your user, you'll need to do so. Workspaces in our platform are a crucial component designed to enhance user interaction with Giza Actions. These workspaces provide a user-friendly interface (UI) for managing and tracking runs, tasks, and metadata associated with action executions.\n",
    "\n",
    "Please note that the workspace creation process can take up to 10 minutes as isolated resources are set up for each respective workspace. You can create a workspace using the following command:\n",
    "\n",
    "```bash\n",
    "giza workspaces create\n",
    "```\n",
    "\n",
    "If you've previously created a workspace with your account, you can retrieve your workspace URL as follows:\n",
    "\n",
    "```bash\n",
    "giza workspaces get\n",
    "```\n",
    "\n",
    "For more detailed information about `workspaces`, please refer to the [Workspace section of Giza-CLI documentation](https://cli.gizatech.xyz/resources/workspaces)."
   ]
  },
  {
   "cell_type": "markdown",
   "metadata": {},
   "source": [
    "# Define your model"
   ]
  },
  {
   "cell_type": "markdown",
   "metadata": {},
   "source": [
    "To begin, we must define the architecture of our model. In this tutorial, we will construct a basic feedforward neural network"
   ]
  },
  {
   "cell_type": "code",
   "execution_count": 3,
   "metadata": {},
   "outputs": [
    {
     "ename": "HTTPError",
     "evalue": "500 Server Error: Internal Server Error for url: https://api-dev.gizatech.xyz/api/v1/workspaces",
     "output_type": "error",
     "traceback": [
      "\u001b[0;31m---------------------------------------------------------------------------\u001b[0m",
      "\u001b[0;31mHTTPError\u001b[0m                                 Traceback (most recent call last)",
      "Cell \u001b[0;32mIn[3], line 8\u001b[0m\n\u001b[1;32m      6\u001b[0m \u001b[38;5;28;01mimport\u001b[39;00m \u001b[38;5;21;01mlogging\u001b[39;00m\n\u001b[1;32m      7\u001b[0m \u001b[38;5;28;01mfrom\u001b[39;00m \u001b[38;5;21;01mscipy\u001b[39;00m\u001b[38;5;21;01m.\u001b[39;00m\u001b[38;5;21;01mndimage\u001b[39;00m \u001b[38;5;28;01mimport\u001b[39;00m zoom\n\u001b[0;32m----> 8\u001b[0m \u001b[38;5;28;01mfrom\u001b[39;00m \u001b[38;5;21;01mgiza_actions\u001b[39;00m\u001b[38;5;21;01m.\u001b[39;00m\u001b[38;5;21;01maction\u001b[39;00m \u001b[38;5;28;01mimport\u001b[39;00m action, Action\n\u001b[1;32m      9\u001b[0m \u001b[38;5;28;01mfrom\u001b[39;00m \u001b[38;5;21;01mgiza_actions\u001b[39;00m\u001b[38;5;21;01m.\u001b[39;00m\u001b[38;5;21;01mtask\u001b[39;00m \u001b[38;5;28;01mimport\u001b[39;00m task\n\u001b[1;32m     10\u001b[0m \u001b[38;5;28;01mfrom\u001b[39;00m \u001b[38;5;21;01mtorch\u001b[39;00m\u001b[38;5;21;01m.\u001b[39;00m\u001b[38;5;21;01mutils\u001b[39;00m\u001b[38;5;21;01m.\u001b[39;00m\u001b[38;5;21;01mdata\u001b[39;00m \u001b[38;5;28;01mimport\u001b[39;00m DataLoader, TensorDataset\n",
      "File \u001b[0;32m~/actions-sdk/giza_actions/action.py:7\u001b[0m\n\u001b[1;32m      3\u001b[0m \u001b[38;5;28;01mfrom\u001b[39;00m \u001b[38;5;21;01mpathlib\u001b[39;00m \u001b[38;5;28;01mimport\u001b[39;00m Path\n\u001b[1;32m      5\u001b[0m \u001b[38;5;28;01mfrom\u001b[39;00m \u001b[38;5;21;01mgiza_actions\u001b[39;00m\u001b[38;5;21;01m.\u001b[39;00m\u001b[38;5;21;01mutils\u001b[39;00m \u001b[38;5;28;01mimport\u001b[39;00m get_workspace_uri  \u001b[38;5;66;03m# noqa: E402\u001b[39;00m\n\u001b[0;32m----> 7\u001b[0m os\u001b[38;5;241m.\u001b[39menviron[\u001b[38;5;124m\"\u001b[39m\u001b[38;5;124mPREFECT_API_URL\u001b[39m\u001b[38;5;124m\"\u001b[39m] \u001b[38;5;241m=\u001b[39m \u001b[38;5;124mf\u001b[39m\u001b[38;5;124m\"\u001b[39m\u001b[38;5;132;01m{\u001b[39;00mget_workspace_uri()\u001b[38;5;132;01m}\u001b[39;00m\u001b[38;5;124m/api\u001b[39m\u001b[38;5;124m\"\u001b[39m\n\u001b[1;32m      8\u001b[0m os\u001b[38;5;241m.\u001b[39menviron[\u001b[38;5;124m\"\u001b[39m\u001b[38;5;124mPREFECT_UI_URL\u001b[39m\u001b[38;5;124m\"\u001b[39m] \u001b[38;5;241m=\u001b[39m get_workspace_uri()\n\u001b[1;32m     10\u001b[0m \u001b[38;5;28;01mfrom\u001b[39;00m \u001b[38;5;21;01mprefect\u001b[39;00m \u001b[38;5;28;01mimport\u001b[39;00m Flow  \u001b[38;5;66;03m# noqa: E402\u001b[39;00m\n",
      "File \u001b[0;32m~/actions-sdk/giza_actions/utils.py:17\u001b[0m, in \u001b[0;36mget_workspace_uri\u001b[0;34m()\u001b[0m\n\u001b[1;32m      6\u001b[0m \u001b[38;5;250m\u001b[39m\u001b[38;5;124;03m\"\"\"\u001b[39;00m\n\u001b[1;32m      7\u001b[0m \u001b[38;5;124;03mRetrieves the URI of the current workspace.\u001b[39;00m\n\u001b[1;32m      8\u001b[0m \n\u001b[0;32m   (...)\u001b[0m\n\u001b[1;32m     14\u001b[0m \u001b[38;5;124;03m    str: The URL of the current workspace.\u001b[39;00m\n\u001b[1;32m     15\u001b[0m \u001b[38;5;124;03m\"\"\"\u001b[39;00m\n\u001b[1;32m     16\u001b[0m client \u001b[38;5;241m=\u001b[39m WorkspaceClient(API_HOST)\n\u001b[0;32m---> 17\u001b[0m workspace \u001b[38;5;241m=\u001b[39m client\u001b[38;5;241m.\u001b[39mget()\n\u001b[1;32m     18\u001b[0m \u001b[38;5;28;01mreturn\u001b[39;00m workspace\u001b[38;5;241m.\u001b[39murl\n",
      "File \u001b[0;32m~/anaconda3/lib/python3.11/site-packages/giza/utils/decorators.py:48\u001b[0m, in \u001b[0;36mauth.<locals>.wrapper\u001b[0;34m(*args, **kwargs)\u001b[0m\n\u001b[1;32m     44\u001b[0m \u001b[38;5;28;01mif\u001b[39;00m (self_\u001b[38;5;241m.\u001b[39mtoken \u001b[38;5;129;01mis\u001b[39;00m \u001b[38;5;28;01mNone\u001b[39;00m \u001b[38;5;129;01mor\u001b[39;00m expired) \u001b[38;5;129;01mand\u001b[39;00m self_\u001b[38;5;241m.\u001b[39mapi_key \u001b[38;5;129;01mis\u001b[39;00m \u001b[38;5;28;01mNone\u001b[39;00m:\n\u001b[1;32m     45\u001b[0m     \u001b[38;5;28;01mraise\u001b[39;00m \u001b[38;5;167;01mException\u001b[39;00m(\n\u001b[1;32m     46\u001b[0m         \u001b[38;5;124m\"\u001b[39m\u001b[38;5;124mToken expired or not set. API Key not available. Log in again.\u001b[39m\u001b[38;5;124m\"\u001b[39m\n\u001b[1;32m     47\u001b[0m     )\n\u001b[0;32m---> 48\u001b[0m \u001b[38;5;28;01mreturn\u001b[39;00m func(\u001b[38;5;241m*\u001b[39margs, \u001b[38;5;241m*\u001b[39m\u001b[38;5;241m*\u001b[39mkwargs)\n",
      "File \u001b[0;32m~/anaconda3/lib/python3.11/site-packages/giza/client.py:1478\u001b[0m, in \u001b[0;36mWorkspaceClient.get\u001b[0;34m(self)\u001b[0m\n\u001b[1;32m   1472\u001b[0m response \u001b[38;5;241m=\u001b[39m \u001b[38;5;28mself\u001b[39m\u001b[38;5;241m.\u001b[39msession\u001b[38;5;241m.\u001b[39mget(\n\u001b[1;32m   1473\u001b[0m     \u001b[38;5;124mf\u001b[39m\u001b[38;5;124m\"\u001b[39m\u001b[38;5;132;01m{\u001b[39;00m\u001b[38;5;28mself\u001b[39m\u001b[38;5;241m.\u001b[39murl\u001b[38;5;132;01m}\u001b[39;00m\u001b[38;5;124m/\u001b[39m\u001b[38;5;132;01m{\u001b[39;00m\u001b[38;5;28mself\u001b[39m\u001b[38;5;241m.\u001b[39mWORKSPACES_ENDPOINT\u001b[38;5;132;01m}\u001b[39;00m\u001b[38;5;124m\"\u001b[39m,\n\u001b[1;32m   1474\u001b[0m     headers\u001b[38;5;241m=\u001b[39mheaders,\n\u001b[1;32m   1475\u001b[0m )\n\u001b[1;32m   1476\u001b[0m \u001b[38;5;28mself\u001b[39m\u001b[38;5;241m.\u001b[39m_echo_debug(\u001b[38;5;28mstr\u001b[39m(response))\n\u001b[0;32m-> 1478\u001b[0m response\u001b[38;5;241m.\u001b[39mraise_for_status()\n\u001b[1;32m   1480\u001b[0m \u001b[38;5;28;01mreturn\u001b[39;00m Workspace(\u001b[38;5;241m*\u001b[39m\u001b[38;5;241m*\u001b[39mresponse\u001b[38;5;241m.\u001b[39mjson())\n",
      "File \u001b[0;32m~/anaconda3/lib/python3.11/site-packages/requests/models.py:1021\u001b[0m, in \u001b[0;36mResponse.raise_for_status\u001b[0;34m(self)\u001b[0m\n\u001b[1;32m   1016\u001b[0m     http_error_msg \u001b[38;5;241m=\u001b[39m (\n\u001b[1;32m   1017\u001b[0m         \u001b[38;5;124mf\u001b[39m\u001b[38;5;124m\"\u001b[39m\u001b[38;5;132;01m{\u001b[39;00m\u001b[38;5;28mself\u001b[39m\u001b[38;5;241m.\u001b[39mstatus_code\u001b[38;5;132;01m}\u001b[39;00m\u001b[38;5;124m Server Error: \u001b[39m\u001b[38;5;132;01m{\u001b[39;00mreason\u001b[38;5;132;01m}\u001b[39;00m\u001b[38;5;124m for url: \u001b[39m\u001b[38;5;132;01m{\u001b[39;00m\u001b[38;5;28mself\u001b[39m\u001b[38;5;241m.\u001b[39murl\u001b[38;5;132;01m}\u001b[39;00m\u001b[38;5;124m\"\u001b[39m\n\u001b[1;32m   1018\u001b[0m     )\n\u001b[1;32m   1020\u001b[0m \u001b[38;5;28;01mif\u001b[39;00m http_error_msg:\n\u001b[0;32m-> 1021\u001b[0m     \u001b[38;5;28;01mraise\u001b[39;00m HTTPError(http_error_msg, response\u001b[38;5;241m=\u001b[39m\u001b[38;5;28mself\u001b[39m)\n",
      "\u001b[0;31mHTTPError\u001b[0m: 500 Server Error: Internal Server Error for url: https://api-dev.gizatech.xyz/api/v1/workspaces"
     ]
    }
   ],
   "source": [
    "import torch\n",
    "import torch.nn as nn\n",
    "import torch.optim as optim\n",
    "import torchvision\n",
    "import numpy as np\n",
    "import logging\n",
    "from scipy.ndimage import zoom\n",
    "from giza_actions.action import action, Action\n",
    "from giza_actions.task import task\n",
    "from torch.utils.data import DataLoader, TensorDataset\n",
    "\n",
    "device = torch.device('cuda' if torch.cuda.is_available() else 'cpu')"
   ]
  },
  {
   "cell_type": "code",
   "execution_count": 2,
   "metadata": {},
   "outputs": [],
   "source": [
    "input_size = 196  # 14x14\n",
    "hidden_size = 10 \n",
    "num_classes = 10\n",
    "num_epochs = 10\n",
    "batch_size = 256\n",
    "learning_rate = 0.001\n",
    "\n",
    "class NeuralNet(nn.Module):\n",
    "    def __init__(self, input_size, hidden_size, num_classes):\n",
    "        super(NeuralNet, self).__init__()\n",
    "        self.input_size = input_size\n",
    "        self.l1 = nn.Linear(input_size, hidden_size) \n",
    "        self.relu = nn.ReLU()\n",
    "        self.l2 = nn.Linear(hidden_size, num_classes) \n",
    "\n",
    "    def forward(self, x):\n",
    "        out = self.l1(x)\n",
    "        out = self.relu(out)\n",
    "        out = self.l2(out)\n",
    "        return out"
   ]
  },
  {
   "cell_type": "markdown",
   "metadata": {},
   "source": [
    "# Prepare your Tasks"
   ]
  },
  {
   "cell_type": "markdown",
   "metadata": {},
   "source": [
    "In the Giza Action SDK, a Task serves as a functional representation of a specific work segment within a Giza Actions workflow. Tasks offer a means to encapsulate portions of your workflow logic in traceable and reusable units across actions. Essentially, a Giza Actions task can accomplish nearly anything a typical Python function can. The unique aspect of tasks is their ability to access information about upstream dependencies and the status of these dependencies before starting. This capability enables tasks, for instance, to wait for the completion of another task before starting. Moreover, tasks benefit from Giza Actions' automated logging, which captures comprehensive details of each task run, including its duration, tags, and final state.\n",
    "\n",
    "This is how we will encapsulate the methods we build using the `@task` decorator."
   ]
  },
  {
   "cell_type": "markdown",
   "metadata": {},
   "source": [
    "### Prepare datasets and create loaders\n",
    "We need to download datasets and create loarders for both training and testing purposes."
   ]
  },
  {
   "cell_type": "code",
   "execution_count": 3,
   "metadata": {},
   "outputs": [],
   "source": [
    "def resize_images(images):\n",
    "    return np.array([zoom(image[0], (0.5, 0.5)) for image in images])\n",
    "\n",
    "@task(name=f'Prepare Datasets')\n",
    "def prepare_datasets():\n",
    "    print(\"Prepare dataset...\")\n",
    "    train_dataset = torchvision.datasets.MNIST(root='./data', train=True, download=True)\n",
    "    test_dataset = torchvision.datasets.MNIST(root='./data', train=False)\n",
    "\n",
    "    x_train = resize_images(train_dataset)\n",
    "    x_test = resize_images(test_dataset)\n",
    "\n",
    "    x_train = torch.tensor(x_train.reshape(-1, 14*14).astype('float32') / 255)\n",
    "    y_train = torch.tensor([label for _, label in train_dataset], dtype=torch.long)\n",
    "\n",
    "    x_test = torch.tensor(x_test.reshape(-1, 14*14).astype('float32') / 255)\n",
    "    y_test = torch.tensor([label for _, label in test_dataset], dtype=torch.long)\n",
    "\n",
    "    print(\"✅ Datasets prepared successfully\")\n",
    "\n",
    "    return x_train, y_train, x_test, y_test\n"
   ]
  },
  {
   "cell_type": "code",
   "execution_count": 4,
   "metadata": {},
   "outputs": [],
   "source": [
    "@task(name=f'Create Loaders')\n",
    "def create_data_loaders(x_train, y_train, x_test, y_test):\n",
    "    print(\"Create loaders...\")\n",
    "\n",
    "    train_loader = DataLoader(TensorDataset(x_train, y_train), batch_size=batch_size, shuffle=True)\n",
    "    test_loader = DataLoader(TensorDataset(x_test, y_test), batch_size=batch_size, shuffle=False)\n",
    "\n",
    "    print(\"✅ Loaders created!\")\n",
    "\n",
    "    return train_loader, test_loader\n"
   ]
  },
  {
   "cell_type": "markdown",
   "metadata": {},
   "source": [
    "### Train the model\n",
    "\n",
    "We need to define our training method."
   ]
  },
  {
   "cell_type": "code",
   "execution_count": 5,
   "metadata": {},
   "outputs": [],
   "source": [
    "@task(name=f'Train model')\n",
    "def train_model(train_loader):\n",
    "    print(\"Train model...\")\n",
    "\n",
    "    model = NeuralNet(input_size, hidden_size, num_classes).to(device)\n",
    "    criterion = nn.CrossEntropyLoss()\n",
    "    optimizer = optim.Adam(model.parameters(), lr=learning_rate)\n",
    "\n",
    "    for epoch in range(num_epochs):\n",
    "        for i, (images, labels) in enumerate(train_loader):\n",
    "            images = images.to(device).reshape(-1, 14*14)\n",
    "            labels = labels.to(device)\n",
    "\n",
    "            outputs = model(images)\n",
    "            loss = criterion(outputs, labels)\n",
    "\n",
    "            optimizer.zero_grad()\n",
    "            loss.backward()\n",
    "            optimizer.step()\n",
    "\n",
    "            if (i + 1) % 100 == 0:\n",
    "                print(f'Epoch [{epoch + 1}/{num_epochs}], Step [{i + 1}/{len(train_loader)}], Loss: {loss.item():.4f}')\n",
    "\n",
    "    print(\"✅ Model trained successfully\")\n",
    "    return model"
   ]
  },
  {
   "cell_type": "markdown",
   "metadata": {},
   "source": [
    "### Test model\n",
    "\n",
    "We need to define our testing method."
   ]
  },
  {
   "cell_type": "code",
   "execution_count": 6,
   "metadata": {},
   "outputs": [],
   "source": [
    "@task(name=f'Test model')\n",
    "def test_model(model, test_loader):\n",
    "    print(\"Test model...\")\n",
    "    with torch.no_grad():\n",
    "        n_correct = 0\n",
    "        n_samples = 0\n",
    "        for images, labels in test_loader:\n",
    "            images = images.to(device).reshape(-1, 14*14)\n",
    "            labels = labels.to(device)\n",
    "            outputs = model(images)\n",
    "            _, predicted = torch.max(outputs.data, 1)\n",
    "            n_samples += labels.size(0)\n",
    "            n_correct += (predicted == labels).sum().item()\n",
    "\n",
    "        acc = 100.0 * n_correct / n_samples\n",
    "        print(f'Accuracy of the network on the 10000 test images: {acc} %')"
   ]
  },
  {
   "cell_type": "markdown",
   "metadata": {},
   "source": [
    "# Action the tasks\n",
    "\n",
    "Now that we've prepared the taks, we need to execute them. This will be done using the `action` decorator."
   ]
  },
  {
   "cell_type": "markdown",
   "metadata": {},
   "source": [
    "Think of actions as unique types of functions. They are capable of receiving inputs, executing tasks, and producing outputs. Remarkably, transforming any standard function into a Giza Actions action is as simple as appending the `@action` decorator. This transformation alters the function's characteristics, bestowing several advantages:\n",
    "\n",
    "- Each time this function is used, its activity is monitored, with every state change communicated to the API for efficient tracking of the action's execution. \n",
    "  \n",
    "- Input parameters undergo automatic type verification and adaptation to ensure they match the required types. \n",
    "  \n",
    "- In cases of failure, the system is equipped to retry. Time constraints can be imposed to avert excessively prolonged workflows.\n",
    "  \n",
    "- Actions leverage inherent logging capabilities, which record essential details of each action run, including its duration and conclusive state.\n",
    "\n",
    "For more detailed information about `actions`, please refer to the [Actions section](https://actions.gizatech.xyz/welcome/giza-actions-sdk) of Action SDK documentation."
   ]
  },
  {
   "cell_type": "code",
   "execution_count": 7,
   "metadata": {},
   "outputs": [
    {
     "data": {
      "text/html": [
       "<pre style=\"white-space:pre;overflow-x:auto;line-height:normal;font-family:Menlo,'DejaVu Sans Mono',consolas,'Courier New',monospace\">08:36:39.134 | <span style=\"color: #008080; text-decoration-color: #008080\">INFO</span>    | Created flow run<span style=\"color: #800080; text-decoration-color: #800080\"> 'refined-swallow'</span> for flow<span style=\"color: #800080; text-decoration-color: #800080; font-weight: bold\"> 'Execution'</span>\n",
       "</pre>\n"
      ],
      "text/plain": [
       "08:36:39.134 | \u001b[36mINFO\u001b[0m    | Created flow run\u001b[35m 'refined-swallow'\u001b[0m for flow\u001b[1;35m 'Execution'\u001b[0m\n"
      ]
     },
     "metadata": {},
     "output_type": "display_data"
    },
    {
     "data": {
      "text/html": [
       "<pre style=\"white-space:pre;overflow-x:auto;line-height:normal;font-family:Menlo,'DejaVu Sans Mono',consolas,'Courier New',monospace\">08:36:39.141 | <span style=\"color: #008080; text-decoration-color: #008080\">INFO</span>    | Action run 'refined-swallow' - View at <span style=\"color: #0000ff; text-decoration-color: #0000ff\">https://actions-server-tyfar2-dblzzhtf5q-ew.a.run.app/flow-runs/flow-run/c03068cf-584c-4bbe-b51f-ebd467357a60</span>\n",
       "</pre>\n"
      ],
      "text/plain": [
       "08:36:39.141 | \u001b[36mINFO\u001b[0m    | Action run 'refined-swallow' - View at \u001b[94mhttps://actions-server-tyfar2-dblzzhtf5q-ew.a.run.app/flow-runs/flow-run/c03068cf-584c-4bbe-b51f-ebd467357a60\u001b[0m\n"
      ]
     },
     "metadata": {},
     "output_type": "display_data"
    },
    {
     "data": {
      "text/html": [
       "<pre style=\"white-space:pre;overflow-x:auto;line-height:normal;font-family:Menlo,'DejaVu Sans Mono',consolas,'Courier New',monospace\">08:36:39.764 | <span style=\"color: #008080; text-decoration-color: #008080\">INFO</span>    | Action run 'refined-swallow' - Created task run 'Prepare Datasets-0' for task 'Prepare Datasets'\n",
       "</pre>\n"
      ],
      "text/plain": [
       "08:36:39.764 | \u001b[36mINFO\u001b[0m    | Action run 'refined-swallow' - Created task run 'Prepare Datasets-0' for task 'Prepare Datasets'\n"
      ]
     },
     "metadata": {},
     "output_type": "display_data"
    },
    {
     "data": {
      "text/html": [
       "<pre style=\"white-space:pre;overflow-x:auto;line-height:normal;font-family:Menlo,'DejaVu Sans Mono',consolas,'Courier New',monospace\">08:36:39.768 | <span style=\"color: #008080; text-decoration-color: #008080\">INFO</span>    | Action run 'refined-swallow' - Executing 'Prepare Datasets-0' immediately...\n",
       "</pre>\n"
      ],
      "text/plain": [
       "08:36:39.768 | \u001b[36mINFO\u001b[0m    | Action run 'refined-swallow' - Executing 'Prepare Datasets-0' immediately...\n"
      ]
     },
     "metadata": {},
     "output_type": "display_data"
    },
    {
     "data": {
      "text/html": [
       "<pre style=\"white-space:pre;overflow-x:auto;line-height:normal;font-family:Menlo,'DejaVu Sans Mono',consolas,'Courier New',monospace\">08:36:40.598 | <span style=\"color: #008080; text-decoration-color: #008080\">INFO</span>    | Task run 'Prepare Datasets-0' - Prepare dataset...\n",
       "</pre>\n"
      ],
      "text/plain": [
       "08:36:40.598 | \u001b[36mINFO\u001b[0m    | Task run 'Prepare Datasets-0' - Prepare dataset...\n"
      ]
     },
     "metadata": {},
     "output_type": "display_data"
    },
    {
     "data": {
      "text/html": [
       "<pre style=\"white-space:pre;overflow-x:auto;line-height:normal;font-family:Menlo,'DejaVu Sans Mono',consolas,'Courier New',monospace\">08:36:40.603 | <span style=\"color: #008080; text-decoration-color: #008080\">INFO</span>    | Task run 'Prepare Datasets-0' - Downloading <span style=\"color: #0000ff; text-decoration-color: #0000ff\">http://yann.lecun.com/exdb/mnist/train-images-idx3-ubyte.gz</span>\n",
       "</pre>\n"
      ],
      "text/plain": [
       "08:36:40.603 | \u001b[36mINFO\u001b[0m    | Task run 'Prepare Datasets-0' - Downloading \u001b[94mhttp://yann.lecun.com/exdb/mnist/train-images-idx3-ubyte.gz\u001b[0m\n"
      ]
     },
     "metadata": {},
     "output_type": "display_data"
    },
    {
     "data": {
      "text/html": [
       "<pre style=\"white-space:pre;overflow-x:auto;line-height:normal;font-family:Menlo,'DejaVu Sans Mono',consolas,'Courier New',monospace\">08:36:40.668 | <span style=\"color: #008080; text-decoration-color: #008080\">INFO</span>    | Task run 'Prepare Datasets-0' - Downloading <span style=\"color: #0000ff; text-decoration-color: #0000ff\">http://yann.lecun.com/exdb/mnist/train-images-idx3-ubyte.gz</span> to ./data/MNIST/raw/train-images-idx3-ubyte.gz\n",
       "</pre>\n"
      ],
      "text/plain": [
       "08:36:40.668 | \u001b[36mINFO\u001b[0m    | Task run 'Prepare Datasets-0' - Downloading \u001b[94mhttp://yann.lecun.com/exdb/mnist/train-images-idx3-ubyte.gz\u001b[0m to ./data/MNIST/raw/train-images-idx3-ubyte.gz\n"
      ]
     },
     "metadata": {},
     "output_type": "display_data"
    },
    {
     "name": "stderr",
     "output_type": "stream",
     "text": [
      "100%|█████████████████████████████████████████████████████████████████████████████████████████████████████████████████████████| 9912422/9912422 [00:00<00:00, 44529008.69it/s]\n"
     ]
    },
    {
     "data": {
      "text/html": [
       "<pre style=\"white-space:pre;overflow-x:auto;line-height:normal;font-family:Menlo,'DejaVu Sans Mono',consolas,'Courier New',monospace\">08:36:40.999 | <span style=\"color: #008080; text-decoration-color: #008080\">INFO</span>    | Task run 'Prepare Datasets-0' - Extracting ./data/MNIST/raw/train-images-idx3-ubyte.gz to ./data/MNIST/raw\n",
       "</pre>\n"
      ],
      "text/plain": [
       "08:36:40.999 | \u001b[36mINFO\u001b[0m    | Task run 'Prepare Datasets-0' - Extracting ./data/MNIST/raw/train-images-idx3-ubyte.gz to ./data/MNIST/raw\n"
      ]
     },
     "metadata": {},
     "output_type": "display_data"
    },
    {
     "data": {
      "text/html": [
       "<pre style=\"white-space:pre;overflow-x:auto;line-height:normal;font-family:Menlo,'DejaVu Sans Mono',consolas,'Courier New',monospace\">08:36:41.154 | <span style=\"color: #008080; text-decoration-color: #008080\">INFO</span>    | Task run 'Prepare Datasets-0' - \n",
       "</pre>\n"
      ],
      "text/plain": [
       "08:36:41.154 | \u001b[36mINFO\u001b[0m    | Task run 'Prepare Datasets-0' - \n"
      ]
     },
     "metadata": {},
     "output_type": "display_data"
    },
    {
     "data": {
      "text/html": [
       "<pre style=\"white-space:pre;overflow-x:auto;line-height:normal;font-family:Menlo,'DejaVu Sans Mono',consolas,'Courier New',monospace\">08:36:41.156 | <span style=\"color: #008080; text-decoration-color: #008080\">INFO</span>    | Task run 'Prepare Datasets-0' - Downloading <span style=\"color: #0000ff; text-decoration-color: #0000ff\">http://yann.lecun.com/exdb/mnist/train-labels-idx1-ubyte.gz</span>\n",
       "</pre>\n"
      ],
      "text/plain": [
       "08:36:41.156 | \u001b[36mINFO\u001b[0m    | Task run 'Prepare Datasets-0' - Downloading \u001b[94mhttp://yann.lecun.com/exdb/mnist/train-labels-idx1-ubyte.gz\u001b[0m\n"
      ]
     },
     "metadata": {},
     "output_type": "display_data"
    },
    {
     "data": {
      "text/html": [
       "<pre style=\"white-space:pre;overflow-x:auto;line-height:normal;font-family:Menlo,'DejaVu Sans Mono',consolas,'Courier New',monospace\">08:36:41.208 | <span style=\"color: #008080; text-decoration-color: #008080\">INFO</span>    | Task run 'Prepare Datasets-0' - Downloading <span style=\"color: #0000ff; text-decoration-color: #0000ff\">http://yann.lecun.com/exdb/mnist/train-labels-idx1-ubyte.gz</span> to ./data/MNIST/raw/train-labels-idx1-ubyte.gz\n",
       "</pre>\n"
      ],
      "text/plain": [
       "08:36:41.208 | \u001b[36mINFO\u001b[0m    | Task run 'Prepare Datasets-0' - Downloading \u001b[94mhttp://yann.lecun.com/exdb/mnist/train-labels-idx1-ubyte.gz\u001b[0m to ./data/MNIST/raw/train-labels-idx1-ubyte.gz\n"
      ]
     },
     "metadata": {},
     "output_type": "display_data"
    },
    {
     "name": "stderr",
     "output_type": "stream",
     "text": [
      "100%|████████████████████████████████████████████████████████████████████████████████████████████████████████████████████████████| 28881/28881 [00:00<00:00, 125140179.57it/s]\n"
     ]
    },
    {
     "data": {
      "text/html": [
       "<pre style=\"white-space:pre;overflow-x:auto;line-height:normal;font-family:Menlo,'DejaVu Sans Mono',consolas,'Courier New',monospace\">08:36:41.257 | <span style=\"color: #008080; text-decoration-color: #008080\">INFO</span>    | Task run 'Prepare Datasets-0' - Extracting ./data/MNIST/raw/train-labels-idx1-ubyte.gz to ./data/MNIST/raw\n",
       "</pre>\n"
      ],
      "text/plain": [
       "08:36:41.257 | \u001b[36mINFO\u001b[0m    | Task run 'Prepare Datasets-0' - Extracting ./data/MNIST/raw/train-labels-idx1-ubyte.gz to ./data/MNIST/raw\n"
      ]
     },
     "metadata": {},
     "output_type": "display_data"
    },
    {
     "data": {
      "text/html": [
       "<pre style=\"white-space:pre;overflow-x:auto;line-height:normal;font-family:Menlo,'DejaVu Sans Mono',consolas,'Courier New',monospace\">08:36:41.259 | <span style=\"color: #008080; text-decoration-color: #008080\">INFO</span>    | Task run 'Prepare Datasets-0' - \n",
       "</pre>\n"
      ],
      "text/plain": [
       "08:36:41.259 | \u001b[36mINFO\u001b[0m    | Task run 'Prepare Datasets-0' - \n"
      ]
     },
     "metadata": {},
     "output_type": "display_data"
    },
    {
     "data": {
      "text/html": [
       "<pre style=\"white-space:pre;overflow-x:auto;line-height:normal;font-family:Menlo,'DejaVu Sans Mono',consolas,'Courier New',monospace\">08:36:41.260 | <span style=\"color: #008080; text-decoration-color: #008080\">INFO</span>    | Task run 'Prepare Datasets-0' - Downloading <span style=\"color: #0000ff; text-decoration-color: #0000ff\">http://yann.lecun.com/exdb/mnist/t10k-images-idx3-ubyte.gz</span>\n",
       "</pre>\n"
      ],
      "text/plain": [
       "08:36:41.260 | \u001b[36mINFO\u001b[0m    | Task run 'Prepare Datasets-0' - Downloading \u001b[94mhttp://yann.lecun.com/exdb/mnist/t10k-images-idx3-ubyte.gz\u001b[0m\n"
      ]
     },
     "metadata": {},
     "output_type": "display_data"
    },
    {
     "data": {
      "text/html": [
       "<pre style=\"white-space:pre;overflow-x:auto;line-height:normal;font-family:Menlo,'DejaVu Sans Mono',consolas,'Courier New',monospace\">08:36:41.309 | <span style=\"color: #008080; text-decoration-color: #008080\">INFO</span>    | Task run 'Prepare Datasets-0' - Downloading <span style=\"color: #0000ff; text-decoration-color: #0000ff\">http://yann.lecun.com/exdb/mnist/t10k-images-idx3-ubyte.gz</span> to ./data/MNIST/raw/t10k-images-idx3-ubyte.gz\n",
       "</pre>\n"
      ],
      "text/plain": [
       "08:36:41.309 | \u001b[36mINFO\u001b[0m    | Task run 'Prepare Datasets-0' - Downloading \u001b[94mhttp://yann.lecun.com/exdb/mnist/t10k-images-idx3-ubyte.gz\u001b[0m to ./data/MNIST/raw/t10k-images-idx3-ubyte.gz\n"
      ]
     },
     "metadata": {},
     "output_type": "display_data"
    },
    {
     "name": "stderr",
     "output_type": "stream",
     "text": [
      "100%|█████████████████████████████████████████████████████████████████████████████████████████████████████████████████████████| 1648877/1648877 [00:00<00:00, 25763362.99it/s]\n"
     ]
    },
    {
     "data": {
      "text/html": [
       "<pre style=\"white-space:pre;overflow-x:auto;line-height:normal;font-family:Menlo,'DejaVu Sans Mono',consolas,'Courier New',monospace\">08:36:41.433 | <span style=\"color: #008080; text-decoration-color: #008080\">INFO</span>    | Task run 'Prepare Datasets-0' - Extracting ./data/MNIST/raw/t10k-images-idx3-ubyte.gz to ./data/MNIST/raw\n",
       "</pre>\n"
      ],
      "text/plain": [
       "08:36:41.433 | \u001b[36mINFO\u001b[0m    | Task run 'Prepare Datasets-0' - Extracting ./data/MNIST/raw/t10k-images-idx3-ubyte.gz to ./data/MNIST/raw\n"
      ]
     },
     "metadata": {},
     "output_type": "display_data"
    },
    {
     "data": {
      "text/html": [
       "<pre style=\"white-space:pre;overflow-x:auto;line-height:normal;font-family:Menlo,'DejaVu Sans Mono',consolas,'Courier New',monospace\">08:36:41.465 | <span style=\"color: #008080; text-decoration-color: #008080\">INFO</span>    | Task run 'Prepare Datasets-0' - \n",
       "</pre>\n"
      ],
      "text/plain": [
       "08:36:41.465 | \u001b[36mINFO\u001b[0m    | Task run 'Prepare Datasets-0' - \n"
      ]
     },
     "metadata": {},
     "output_type": "display_data"
    },
    {
     "data": {
      "text/html": [
       "<pre style=\"white-space:pre;overflow-x:auto;line-height:normal;font-family:Menlo,'DejaVu Sans Mono',consolas,'Courier New',monospace\">08:36:41.467 | <span style=\"color: #008080; text-decoration-color: #008080\">INFO</span>    | Task run 'Prepare Datasets-0' - Downloading <span style=\"color: #0000ff; text-decoration-color: #0000ff\">http://yann.lecun.com/exdb/mnist/t10k-labels-idx1-ubyte.gz</span>\n",
       "</pre>\n"
      ],
      "text/plain": [
       "08:36:41.467 | \u001b[36mINFO\u001b[0m    | Task run 'Prepare Datasets-0' - Downloading \u001b[94mhttp://yann.lecun.com/exdb/mnist/t10k-labels-idx1-ubyte.gz\u001b[0m\n"
      ]
     },
     "metadata": {},
     "output_type": "display_data"
    },
    {
     "data": {
      "text/html": [
       "<pre style=\"white-space:pre;overflow-x:auto;line-height:normal;font-family:Menlo,'DejaVu Sans Mono',consolas,'Courier New',monospace\">08:36:41.508 | <span style=\"color: #008080; text-decoration-color: #008080\">INFO</span>    | Task run 'Prepare Datasets-0' - Downloading <span style=\"color: #0000ff; text-decoration-color: #0000ff\">http://yann.lecun.com/exdb/mnist/t10k-labels-idx1-ubyte.gz</span> to ./data/MNIST/raw/t10k-labels-idx1-ubyte.gz\n",
       "</pre>\n"
      ],
      "text/plain": [
       "08:36:41.508 | \u001b[36mINFO\u001b[0m    | Task run 'Prepare Datasets-0' - Downloading \u001b[94mhttp://yann.lecun.com/exdb/mnist/t10k-labels-idx1-ubyte.gz\u001b[0m to ./data/MNIST/raw/t10k-labels-idx1-ubyte.gz\n"
      ]
     },
     "metadata": {},
     "output_type": "display_data"
    },
    {
     "name": "stderr",
     "output_type": "stream",
     "text": [
      "100%|████████████████████████████████████████████████████████████████████████████████████████████████████████████████████████████████| 4542/4542 [00:00<00:00, 4443790.24it/s]\n"
     ]
    },
    {
     "data": {
      "text/html": [
       "<pre style=\"white-space:pre;overflow-x:auto;line-height:normal;font-family:Menlo,'DejaVu Sans Mono',consolas,'Courier New',monospace\">08:36:41.553 | <span style=\"color: #008080; text-decoration-color: #008080\">INFO</span>    | Task run 'Prepare Datasets-0' - Extracting ./data/MNIST/raw/t10k-labels-idx1-ubyte.gz to ./data/MNIST/raw\n",
       "</pre>\n"
      ],
      "text/plain": [
       "08:36:41.553 | \u001b[36mINFO\u001b[0m    | Task run 'Prepare Datasets-0' - Extracting ./data/MNIST/raw/t10k-labels-idx1-ubyte.gz to ./data/MNIST/raw\n"
      ]
     },
     "metadata": {},
     "output_type": "display_data"
    },
    {
     "data": {
      "text/html": [
       "<pre style=\"white-space:pre;overflow-x:auto;line-height:normal;font-family:Menlo,'DejaVu Sans Mono',consolas,'Courier New',monospace\">08:36:41.556 | <span style=\"color: #008080; text-decoration-color: #008080\">INFO</span>    | Task run 'Prepare Datasets-0' - \n",
       "</pre>\n"
      ],
      "text/plain": [
       "08:36:41.556 | \u001b[36mINFO\u001b[0m    | Task run 'Prepare Datasets-0' - \n"
      ]
     },
     "metadata": {},
     "output_type": "display_data"
    },
    {
     "data": {
      "text/html": [
       "<pre style=\"white-space:pre;overflow-x:auto;line-height:normal;font-family:Menlo,'DejaVu Sans Mono',consolas,'Courier New',monospace\">08:36:44.851 | <span style=\"color: #008080; text-decoration-color: #008080\">INFO</span>    | Task run 'Prepare Datasets-0' - ✅ Datasets prepared successfully\n",
       "</pre>\n"
      ],
      "text/plain": [
       "08:36:44.851 | \u001b[36mINFO\u001b[0m    | Task run 'Prepare Datasets-0' - ✅ Datasets prepared successfully\n"
      ]
     },
     "metadata": {},
     "output_type": "display_data"
    },
    {
     "data": {
      "text/html": [
       "<pre style=\"white-space:pre;overflow-x:auto;line-height:normal;font-family:Menlo,'DejaVu Sans Mono',consolas,'Courier New',monospace\">08:36:45.098 | <span style=\"color: #008080; text-decoration-color: #008080\">INFO</span>    | Task run 'Prepare Datasets-0' - Finished in state <span style=\"color: #008000; text-decoration-color: #008000\">Completed</span>()\n",
       "</pre>\n"
      ],
      "text/plain": [
       "08:36:45.098 | \u001b[36mINFO\u001b[0m    | Task run 'Prepare Datasets-0' - Finished in state \u001b[32mCompleted\u001b[0m()\n"
      ]
     },
     "metadata": {},
     "output_type": "display_data"
    },
    {
     "data": {
      "text/html": [
       "<pre style=\"white-space:pre;overflow-x:auto;line-height:normal;font-family:Menlo,'DejaVu Sans Mono',consolas,'Courier New',monospace\">08:36:45.357 | <span style=\"color: #008080; text-decoration-color: #008080\">INFO</span>    | Action run 'refined-swallow' - Created task run 'Create Loaders-0' for task 'Create Loaders'\n",
       "</pre>\n"
      ],
      "text/plain": [
       "08:36:45.357 | \u001b[36mINFO\u001b[0m    | Action run 'refined-swallow' - Created task run 'Create Loaders-0' for task 'Create Loaders'\n"
      ]
     },
     "metadata": {},
     "output_type": "display_data"
    },
    {
     "data": {
      "text/html": [
       "<pre style=\"white-space:pre;overflow-x:auto;line-height:normal;font-family:Menlo,'DejaVu Sans Mono',consolas,'Courier New',monospace\">08:36:45.360 | <span style=\"color: #008080; text-decoration-color: #008080\">INFO</span>    | Action run 'refined-swallow' - Executing 'Create Loaders-0' immediately...\n",
       "</pre>\n"
      ],
      "text/plain": [
       "08:36:45.360 | \u001b[36mINFO\u001b[0m    | Action run 'refined-swallow' - Executing 'Create Loaders-0' immediately...\n"
      ]
     },
     "metadata": {},
     "output_type": "display_data"
    },
    {
     "data": {
      "text/html": [
       "<pre style=\"white-space:pre;overflow-x:auto;line-height:normal;font-family:Menlo,'DejaVu Sans Mono',consolas,'Courier New',monospace\">08:36:45.854 | <span style=\"color: #008080; text-decoration-color: #008080\">INFO</span>    | Task run 'Create Loaders-0' - Create loaders...\n",
       "</pre>\n"
      ],
      "text/plain": [
       "08:36:45.854 | \u001b[36mINFO\u001b[0m    | Task run 'Create Loaders-0' - Create loaders...\n"
      ]
     },
     "metadata": {},
     "output_type": "display_data"
    },
    {
     "data": {
      "text/html": [
       "<pre style=\"white-space:pre;overflow-x:auto;line-height:normal;font-family:Menlo,'DejaVu Sans Mono',consolas,'Courier New',monospace\">08:36:45.859 | <span style=\"color: #008080; text-decoration-color: #008080\">INFO</span>    | Task run 'Create Loaders-0' - ✅ Loaders created!\n",
       "</pre>\n"
      ],
      "text/plain": [
       "08:36:45.859 | \u001b[36mINFO\u001b[0m    | Task run 'Create Loaders-0' - ✅ Loaders created!\n"
      ]
     },
     "metadata": {},
     "output_type": "display_data"
    },
    {
     "data": {
      "text/html": [
       "<pre style=\"white-space:pre;overflow-x:auto;line-height:normal;font-family:Menlo,'DejaVu Sans Mono',consolas,'Courier New',monospace\">08:36:46.080 | <span style=\"color: #008080; text-decoration-color: #008080\">INFO</span>    | Task run 'Create Loaders-0' - Finished in state <span style=\"color: #008000; text-decoration-color: #008000\">Completed</span>()\n",
       "</pre>\n"
      ],
      "text/plain": [
       "08:36:46.080 | \u001b[36mINFO\u001b[0m    | Task run 'Create Loaders-0' - Finished in state \u001b[32mCompleted\u001b[0m()\n"
      ]
     },
     "metadata": {},
     "output_type": "display_data"
    },
    {
     "data": {
      "text/html": [
       "<pre style=\"white-space:pre;overflow-x:auto;line-height:normal;font-family:Menlo,'DejaVu Sans Mono',consolas,'Courier New',monospace\">08:36:46.301 | <span style=\"color: #008080; text-decoration-color: #008080\">INFO</span>    | Action run 'refined-swallow' - Created task run 'Train model-0' for task 'Train model'\n",
       "</pre>\n"
      ],
      "text/plain": [
       "08:36:46.301 | \u001b[36mINFO\u001b[0m    | Action run 'refined-swallow' - Created task run 'Train model-0' for task 'Train model'\n"
      ]
     },
     "metadata": {},
     "output_type": "display_data"
    },
    {
     "data": {
      "text/html": [
       "<pre style=\"white-space:pre;overflow-x:auto;line-height:normal;font-family:Menlo,'DejaVu Sans Mono',consolas,'Courier New',monospace\">08:36:46.305 | <span style=\"color: #008080; text-decoration-color: #008080\">INFO</span>    | Action run 'refined-swallow' - Executing 'Train model-0' immediately...\n",
       "</pre>\n"
      ],
      "text/plain": [
       "08:36:46.305 | \u001b[36mINFO\u001b[0m    | Action run 'refined-swallow' - Executing 'Train model-0' immediately...\n"
      ]
     },
     "metadata": {},
     "output_type": "display_data"
    },
    {
     "data": {
      "text/html": [
       "<pre style=\"white-space:pre;overflow-x:auto;line-height:normal;font-family:Menlo,'DejaVu Sans Mono',consolas,'Courier New',monospace\">08:36:46.722 | <span style=\"color: #008080; text-decoration-color: #008080\">INFO</span>    | Task run 'Train model-0' - Train model...\n",
       "</pre>\n"
      ],
      "text/plain": [
       "08:36:46.722 | \u001b[36mINFO\u001b[0m    | Task run 'Train model-0' - Train model...\n"
      ]
     },
     "metadata": {},
     "output_type": "display_data"
    },
    {
     "data": {
      "text/html": [
       "<pre style=\"white-space:pre;overflow-x:auto;line-height:normal;font-family:Menlo,'DejaVu Sans Mono',consolas,'Courier New',monospace\">08:36:46.862 | <span style=\"color: #008080; text-decoration-color: #008080\">INFO</span>    | Task run 'Train model-0' - Epoch [1/10], Step [100/235], Loss: 1.7046\n",
       "</pre>\n"
      ],
      "text/plain": [
       "08:36:46.862 | \u001b[36mINFO\u001b[0m    | Task run 'Train model-0' - Epoch [1/10], Step [100/235], Loss: 1.7046\n"
      ]
     },
     "metadata": {},
     "output_type": "display_data"
    },
    {
     "data": {
      "text/html": [
       "<pre style=\"white-space:pre;overflow-x:auto;line-height:normal;font-family:Menlo,'DejaVu Sans Mono',consolas,'Courier New',monospace\">08:36:47.045 | <span style=\"color: #008080; text-decoration-color: #008080\">INFO</span>    | Task run 'Train model-0' - Epoch [1/10], Step [200/235], Loss: 1.1575\n",
       "</pre>\n"
      ],
      "text/plain": [
       "08:36:47.045 | \u001b[36mINFO\u001b[0m    | Task run 'Train model-0' - Epoch [1/10], Step [200/235], Loss: 1.1575\n"
      ]
     },
     "metadata": {},
     "output_type": "display_data"
    },
    {
     "data": {
      "text/html": [
       "<pre style=\"white-space:pre;overflow-x:auto;line-height:normal;font-family:Menlo,'DejaVu Sans Mono',consolas,'Courier New',monospace\">08:36:47.161 | <span style=\"color: #008080; text-decoration-color: #008080\">INFO</span>    | Task run 'Train model-0' - Epoch [2/10], Step [100/235], Loss: 0.6572\n",
       "</pre>\n"
      ],
      "text/plain": [
       "08:36:47.161 | \u001b[36mINFO\u001b[0m    | Task run 'Train model-0' - Epoch [2/10], Step [100/235], Loss: 0.6572\n"
      ]
     },
     "metadata": {},
     "output_type": "display_data"
    },
    {
     "data": {
      "text/html": [
       "<pre style=\"white-space:pre;overflow-x:auto;line-height:normal;font-family:Menlo,'DejaVu Sans Mono',consolas,'Courier New',monospace\">08:36:47.247 | <span style=\"color: #008080; text-decoration-color: #008080\">INFO</span>    | Task run 'Train model-0' - Epoch [2/10], Step [200/235], Loss: 0.7064\n",
       "</pre>\n"
      ],
      "text/plain": [
       "08:36:47.247 | \u001b[36mINFO\u001b[0m    | Task run 'Train model-0' - Epoch [2/10], Step [200/235], Loss: 0.7064\n"
      ]
     },
     "metadata": {},
     "output_type": "display_data"
    },
    {
     "data": {
      "text/html": [
       "<pre style=\"white-space:pre;overflow-x:auto;line-height:normal;font-family:Menlo,'DejaVu Sans Mono',consolas,'Courier New',monospace\">08:36:47.365 | <span style=\"color: #008080; text-decoration-color: #008080\">INFO</span>    | Task run 'Train model-0' - Epoch [3/10], Step [100/235], Loss: 0.4139\n",
       "</pre>\n"
      ],
      "text/plain": [
       "08:36:47.365 | \u001b[36mINFO\u001b[0m    | Task run 'Train model-0' - Epoch [3/10], Step [100/235], Loss: 0.4139\n"
      ]
     },
     "metadata": {},
     "output_type": "display_data"
    },
    {
     "data": {
      "text/html": [
       "<pre style=\"white-space:pre;overflow-x:auto;line-height:normal;font-family:Menlo,'DejaVu Sans Mono',consolas,'Courier New',monospace\">08:36:47.449 | <span style=\"color: #008080; text-decoration-color: #008080\">INFO</span>    | Task run 'Train model-0' - Epoch [3/10], Step [200/235], Loss: 0.3913\n",
       "</pre>\n"
      ],
      "text/plain": [
       "08:36:47.449 | \u001b[36mINFO\u001b[0m    | Task run 'Train model-0' - Epoch [3/10], Step [200/235], Loss: 0.3913\n"
      ]
     },
     "metadata": {},
     "output_type": "display_data"
    },
    {
     "data": {
      "text/html": [
       "<pre style=\"white-space:pre;overflow-x:auto;line-height:normal;font-family:Menlo,'DejaVu Sans Mono',consolas,'Courier New',monospace\">08:36:47.565 | <span style=\"color: #008080; text-decoration-color: #008080\">INFO</span>    | Task run 'Train model-0' - Epoch [4/10], Step [100/235], Loss: 0.3987\n",
       "</pre>\n"
      ],
      "text/plain": [
       "08:36:47.565 | \u001b[36mINFO\u001b[0m    | Task run 'Train model-0' - Epoch [4/10], Step [100/235], Loss: 0.3987\n"
      ]
     },
     "metadata": {},
     "output_type": "display_data"
    },
    {
     "data": {
      "text/html": [
       "<pre style=\"white-space:pre;overflow-x:auto;line-height:normal;font-family:Menlo,'DejaVu Sans Mono',consolas,'Courier New',monospace\">08:36:47.650 | <span style=\"color: #008080; text-decoration-color: #008080\">INFO</span>    | Task run 'Train model-0' - Epoch [4/10], Step [200/235], Loss: 0.3550\n",
       "</pre>\n"
      ],
      "text/plain": [
       "08:36:47.650 | \u001b[36mINFO\u001b[0m    | Task run 'Train model-0' - Epoch [4/10], Step [200/235], Loss: 0.3550\n"
      ]
     },
     "metadata": {},
     "output_type": "display_data"
    },
    {
     "data": {
      "text/html": [
       "<pre style=\"white-space:pre;overflow-x:auto;line-height:normal;font-family:Menlo,'DejaVu Sans Mono',consolas,'Courier New',monospace\">08:36:47.768 | <span style=\"color: #008080; text-decoration-color: #008080\">INFO</span>    | Task run 'Train model-0' - Epoch [5/10], Step [100/235], Loss: 0.3247\n",
       "</pre>\n"
      ],
      "text/plain": [
       "08:36:47.768 | \u001b[36mINFO\u001b[0m    | Task run 'Train model-0' - Epoch [5/10], Step [100/235], Loss: 0.3247\n"
      ]
     },
     "metadata": {},
     "output_type": "display_data"
    },
    {
     "data": {
      "text/html": [
       "<pre style=\"white-space:pre;overflow-x:auto;line-height:normal;font-family:Menlo,'DejaVu Sans Mono',consolas,'Courier New',monospace\">08:36:47.853 | <span style=\"color: #008080; text-decoration-color: #008080\">INFO</span>    | Task run 'Train model-0' - Epoch [5/10], Step [200/235], Loss: 0.2498\n",
       "</pre>\n"
      ],
      "text/plain": [
       "08:36:47.853 | \u001b[36mINFO\u001b[0m    | Task run 'Train model-0' - Epoch [5/10], Step [200/235], Loss: 0.2498\n"
      ]
     },
     "metadata": {},
     "output_type": "display_data"
    },
    {
     "data": {
      "text/html": [
       "<pre style=\"white-space:pre;overflow-x:auto;line-height:normal;font-family:Menlo,'DejaVu Sans Mono',consolas,'Courier New',monospace\">08:36:47.970 | <span style=\"color: #008080; text-decoration-color: #008080\">INFO</span>    | Task run 'Train model-0' - Epoch [6/10], Step [100/235], Loss: 0.3801\n",
       "</pre>\n"
      ],
      "text/plain": [
       "08:36:47.970 | \u001b[36mINFO\u001b[0m    | Task run 'Train model-0' - Epoch [6/10], Step [100/235], Loss: 0.3801\n"
      ]
     },
     "metadata": {},
     "output_type": "display_data"
    },
    {
     "data": {
      "text/html": [
       "<pre style=\"white-space:pre;overflow-x:auto;line-height:normal;font-family:Menlo,'DejaVu Sans Mono',consolas,'Courier New',monospace\">08:36:48.056 | <span style=\"color: #008080; text-decoration-color: #008080\">INFO</span>    | Task run 'Train model-0' - Epoch [6/10], Step [200/235], Loss: 0.2985\n",
       "</pre>\n"
      ],
      "text/plain": [
       "08:36:48.056 | \u001b[36mINFO\u001b[0m    | Task run 'Train model-0' - Epoch [6/10], Step [200/235], Loss: 0.2985\n"
      ]
     },
     "metadata": {},
     "output_type": "display_data"
    },
    {
     "data": {
      "text/html": [
       "<pre style=\"white-space:pre;overflow-x:auto;line-height:normal;font-family:Menlo,'DejaVu Sans Mono',consolas,'Courier New',monospace\">08:36:48.169 | <span style=\"color: #008080; text-decoration-color: #008080\">INFO</span>    | Task run 'Train model-0' - Epoch [7/10], Step [100/235], Loss: 0.3481\n",
       "</pre>\n"
      ],
      "text/plain": [
       "08:36:48.169 | \u001b[36mINFO\u001b[0m    | Task run 'Train model-0' - Epoch [7/10], Step [100/235], Loss: 0.3481\n"
      ]
     },
     "metadata": {},
     "output_type": "display_data"
    },
    {
     "data": {
      "text/html": [
       "<pre style=\"white-space:pre;overflow-x:auto;line-height:normal;font-family:Menlo,'DejaVu Sans Mono',consolas,'Courier New',monospace\">08:36:48.257 | <span style=\"color: #008080; text-decoration-color: #008080\">INFO</span>    | Task run 'Train model-0' - Epoch [7/10], Step [200/235], Loss: 0.3224\n",
       "</pre>\n"
      ],
      "text/plain": [
       "08:36:48.257 | \u001b[36mINFO\u001b[0m    | Task run 'Train model-0' - Epoch [7/10], Step [200/235], Loss: 0.3224\n"
      ]
     },
     "metadata": {},
     "output_type": "display_data"
    },
    {
     "data": {
      "text/html": [
       "<pre style=\"white-space:pre;overflow-x:auto;line-height:normal;font-family:Menlo,'DejaVu Sans Mono',consolas,'Courier New',monospace\">08:36:48.375 | <span style=\"color: #008080; text-decoration-color: #008080\">INFO</span>    | Task run 'Train model-0' - Epoch [8/10], Step [100/235], Loss: 0.2604\n",
       "</pre>\n"
      ],
      "text/plain": [
       "08:36:48.375 | \u001b[36mINFO\u001b[0m    | Task run 'Train model-0' - Epoch [8/10], Step [100/235], Loss: 0.2604\n"
      ]
     },
     "metadata": {},
     "output_type": "display_data"
    },
    {
     "data": {
      "text/html": [
       "<pre style=\"white-space:pre;overflow-x:auto;line-height:normal;font-family:Menlo,'DejaVu Sans Mono',consolas,'Courier New',monospace\">08:36:48.460 | <span style=\"color: #008080; text-decoration-color: #008080\">INFO</span>    | Task run 'Train model-0' - Epoch [8/10], Step [200/235], Loss: 0.3452\n",
       "</pre>\n"
      ],
      "text/plain": [
       "08:36:48.460 | \u001b[36mINFO\u001b[0m    | Task run 'Train model-0' - Epoch [8/10], Step [200/235], Loss: 0.3452\n"
      ]
     },
     "metadata": {},
     "output_type": "display_data"
    },
    {
     "data": {
      "text/html": [
       "<pre style=\"white-space:pre;overflow-x:auto;line-height:normal;font-family:Menlo,'DejaVu Sans Mono',consolas,'Courier New',monospace\">08:36:48.576 | <span style=\"color: #008080; text-decoration-color: #008080\">INFO</span>    | Task run 'Train model-0' - Epoch [9/10], Step [100/235], Loss: 0.3108\n",
       "</pre>\n"
      ],
      "text/plain": [
       "08:36:48.576 | \u001b[36mINFO\u001b[0m    | Task run 'Train model-0' - Epoch [9/10], Step [100/235], Loss: 0.3108\n"
      ]
     },
     "metadata": {},
     "output_type": "display_data"
    },
    {
     "data": {
      "text/html": [
       "<pre style=\"white-space:pre;overflow-x:auto;line-height:normal;font-family:Menlo,'DejaVu Sans Mono',consolas,'Courier New',monospace\">08:36:48.663 | <span style=\"color: #008080; text-decoration-color: #008080\">INFO</span>    | Task run 'Train model-0' - Epoch [9/10], Step [200/235], Loss: 0.2139\n",
       "</pre>\n"
      ],
      "text/plain": [
       "08:36:48.663 | \u001b[36mINFO\u001b[0m    | Task run 'Train model-0' - Epoch [9/10], Step [200/235], Loss: 0.2139\n"
      ]
     },
     "metadata": {},
     "output_type": "display_data"
    },
    {
     "data": {
      "text/html": [
       "<pre style=\"white-space:pre;overflow-x:auto;line-height:normal;font-family:Menlo,'DejaVu Sans Mono',consolas,'Courier New',monospace\">08:36:48.780 | <span style=\"color: #008080; text-decoration-color: #008080\">INFO</span>    | Task run 'Train model-0' - Epoch [10/10], Step [100/235], Loss: 0.2809\n",
       "</pre>\n"
      ],
      "text/plain": [
       "08:36:48.780 | \u001b[36mINFO\u001b[0m    | Task run 'Train model-0' - Epoch [10/10], Step [100/235], Loss: 0.2809\n"
      ]
     },
     "metadata": {},
     "output_type": "display_data"
    },
    {
     "data": {
      "text/html": [
       "<pre style=\"white-space:pre;overflow-x:auto;line-height:normal;font-family:Menlo,'DejaVu Sans Mono',consolas,'Courier New',monospace\">08:36:48.867 | <span style=\"color: #008080; text-decoration-color: #008080\">INFO</span>    | Task run 'Train model-0' - Epoch [10/10], Step [200/235], Loss: 0.2631\n",
       "</pre>\n"
      ],
      "text/plain": [
       "08:36:48.867 | \u001b[36mINFO\u001b[0m    | Task run 'Train model-0' - Epoch [10/10], Step [200/235], Loss: 0.2631\n"
      ]
     },
     "metadata": {},
     "output_type": "display_data"
    },
    {
     "data": {
      "text/html": [
       "<pre style=\"white-space:pre;overflow-x:auto;line-height:normal;font-family:Menlo,'DejaVu Sans Mono',consolas,'Courier New',monospace\">08:36:48.899 | <span style=\"color: #008080; text-decoration-color: #008080\">INFO</span>    | Task run 'Train model-0' - ✅ Model trained successfully\n",
       "</pre>\n"
      ],
      "text/plain": [
       "08:36:48.899 | \u001b[36mINFO\u001b[0m    | Task run 'Train model-0' - ✅ Model trained successfully\n"
      ]
     },
     "metadata": {},
     "output_type": "display_data"
    },
    {
     "data": {
      "text/html": [
       "<pre style=\"white-space:pre;overflow-x:auto;line-height:normal;font-family:Menlo,'DejaVu Sans Mono',consolas,'Courier New',monospace\">08:36:49.119 | <span style=\"color: #008080; text-decoration-color: #008080\">INFO</span>    | Task run 'Train model-0' - Finished in state <span style=\"color: #008000; text-decoration-color: #008000\">Completed</span>()\n",
       "</pre>\n"
      ],
      "text/plain": [
       "08:36:49.119 | \u001b[36mINFO\u001b[0m    | Task run 'Train model-0' - Finished in state \u001b[32mCompleted\u001b[0m()\n"
      ]
     },
     "metadata": {},
     "output_type": "display_data"
    },
    {
     "data": {
      "text/html": [
       "<pre style=\"white-space:pre;overflow-x:auto;line-height:normal;font-family:Menlo,'DejaVu Sans Mono',consolas,'Courier New',monospace\">08:36:49.323 | <span style=\"color: #008080; text-decoration-color: #008080\">INFO</span>    | Action run 'refined-swallow' - Created task run 'Test model-0' for task 'Test model'\n",
       "</pre>\n"
      ],
      "text/plain": [
       "08:36:49.323 | \u001b[36mINFO\u001b[0m    | Action run 'refined-swallow' - Created task run 'Test model-0' for task 'Test model'\n"
      ]
     },
     "metadata": {},
     "output_type": "display_data"
    },
    {
     "data": {
      "text/html": [
       "<pre style=\"white-space:pre;overflow-x:auto;line-height:normal;font-family:Menlo,'DejaVu Sans Mono',consolas,'Courier New',monospace\">08:36:49.325 | <span style=\"color: #008080; text-decoration-color: #008080\">INFO</span>    | Action run 'refined-swallow' - Executing 'Test model-0' immediately...\n",
       "</pre>\n"
      ],
      "text/plain": [
       "08:36:49.325 | \u001b[36mINFO\u001b[0m    | Action run 'refined-swallow' - Executing 'Test model-0' immediately...\n"
      ]
     },
     "metadata": {},
     "output_type": "display_data"
    },
    {
     "data": {
      "text/html": [
       "<pre style=\"white-space:pre;overflow-x:auto;line-height:normal;font-family:Menlo,'DejaVu Sans Mono',consolas,'Courier New',monospace\">08:36:49.716 | <span style=\"color: #008080; text-decoration-color: #008080\">INFO</span>    | Task run 'Test model-0' - Test model...\n",
       "</pre>\n"
      ],
      "text/plain": [
       "08:36:49.716 | \u001b[36mINFO\u001b[0m    | Task run 'Test model-0' - Test model...\n"
      ]
     },
     "metadata": {},
     "output_type": "display_data"
    },
    {
     "data": {
      "text/html": [
       "<pre style=\"white-space:pre;overflow-x:auto;line-height:normal;font-family:Menlo,'DejaVu Sans Mono',consolas,'Courier New',monospace\">08:36:49.769 | <span style=\"color: #008080; text-decoration-color: #008080\">INFO</span>    | Task run 'Test model-0' - Accuracy of the network on the 10000 test images: 92.2 %\n",
       "</pre>\n"
      ],
      "text/plain": [
       "08:36:49.769 | \u001b[36mINFO\u001b[0m    | Task run 'Test model-0' - Accuracy of the network on the 10000 test images: 92.2 %\n"
      ]
     },
     "metadata": {},
     "output_type": "display_data"
    },
    {
     "data": {
      "text/html": [
       "<pre style=\"white-space:pre;overflow-x:auto;line-height:normal;font-family:Menlo,'DejaVu Sans Mono',consolas,'Courier New',monospace\">08:36:49.976 | <span style=\"color: #008080; text-decoration-color: #008080\">INFO</span>    | Task run 'Test model-0' - Finished in state <span style=\"color: #008000; text-decoration-color: #008000\">Completed</span>()\n",
       "</pre>\n"
      ],
      "text/plain": [
       "08:36:49.976 | \u001b[36mINFO\u001b[0m    | Task run 'Test model-0' - Finished in state \u001b[32mCompleted\u001b[0m()\n"
      ]
     },
     "metadata": {},
     "output_type": "display_data"
    },
    {
     "data": {
      "text/html": [
       "<pre style=\"white-space:pre;overflow-x:auto;line-height:normal;font-family:Menlo,'DejaVu Sans Mono',consolas,'Courier New',monospace\">08:36:50.200 | <span style=\"color: #008080; text-decoration-color: #008080\">INFO</span>    | Action run 'refined-swallow' - Finished in state <span style=\"color: #008000; text-decoration-color: #008000\">Completed</span>('All states completed.')\n",
       "</pre>\n"
      ],
      "text/plain": [
       "08:36:50.200 | \u001b[36mINFO\u001b[0m    | Action run 'refined-swallow' - Finished in state \u001b[32mCompleted\u001b[0m('All states completed.')\n"
      ]
     },
     "metadata": {},
     "output_type": "display_data"
    },
    {
     "data": {
      "text/plain": [
       "[Completed(message=None, type=COMPLETED, result=UnpersistedResult(type='unpersisted', artifact_type='result', artifact_description='Unpersisted result of type `tuple`')),\n",
       " Completed(message=None, type=COMPLETED, result=UnpersistedResult(type='unpersisted', artifact_type='result', artifact_description='Unpersisted result of type `tuple`')),\n",
       " Completed(message=None, type=COMPLETED, result=UnpersistedResult(type='unpersisted', artifact_type='result', artifact_description='Unpersisted result of type `NeuralNet`')),\n",
       " Completed(message=None, type=COMPLETED, result=UnpersistedResult(type='unpersisted', artifact_type='result', artifact_description='Unpersisted result of type `NoneType`'))]"
      ]
     },
     "execution_count": 7,
     "metadata": {},
     "output_type": "execute_result"
    }
   ],
   "source": [
    "\n",
    "@action(name=f'Execution', log_prints=True )\n",
    "def execution():\n",
    "    x_train, y_train, x_test, y_test = prepare_datasets()\n",
    "    train_loader, test_loader = create_data_loaders(\n",
    "        x_train, y_train, x_test, y_test)\n",
    "    model = train_model(train_loader)\n",
    "    test_model(model, test_loader)\n",
    "\n",
    "\n",
    "execution()"
   ]
  },
  {
   "cell_type": "markdown",
   "metadata": {},
   "source": [
    "When you return to your workspace and refresh it, you will observe your action currently in the execution process.\n",
    "\n",
    "To view all the actions you have run, navigate to the Action Runs section within your workspace. Each action run represents a single occurrence of executing the action.\n",
    "\n",
    "![Action runs](./imgs/action_runs.png)"
   ]
  },
  {
   "cell_type": "markdown",
   "metadata": {},
   "source": [
    "Furthermore, by clicking on a particular action, you can closely monitor its progress. You'll have the ability to view logs, individual tasks, and associated metadata.\n",
    "\n",
    "![Action](./imgs/action.png)\n"
   ]
  },
  {
   "cell_type": "markdown",
   "metadata": {},
   "source": [
    "### Deploy your action"
   ]
  },
  {
   "cell_type": "markdown",
   "metadata": {},
   "source": [
    "Giza Action enables you to deploy workflows, turning them from manual activation into API-managed entities that can be triggered remotely. Once a workflow is deployed, it creates a deployment within your Giza Workspace, which remains active, awaiting action runs associated with that deployment. When a run is detected, it is asynchronously executed in a local subprocess.\n",
    "\n",
    "All your deployments can be found in the 'Deployments' section of your Workspace.\n",
    "\n",
    "![Deployment](./imgs/deployments.png)"
   ]
  },
  {
   "cell_type": "code",
   "execution_count": 14,
   "metadata": {},
   "outputs": [
    {
     "name": "stderr",
     "output_type": "stream",
     "text": [
      "/Users/tylerfarnan/anaconda3/lib/python3.11/site-packages/prefect/flows.py:337: UserWarning: A flow named 'Execution2' and defined at '/Users/tylerfarnan/actions-sdk/giza_actions/action.py:1' conflicts with another flow. Consider specifying a unique `name` parameter in the flow definition:\n",
      "\n",
      " `@flow(name='my_unique_name', ...)`\n",
      "  warnings.warn(\n",
      "/var/folders/7l/7zdj_j4x3ys_gkhklw77qsf80000gn/T/ipykernel_55072/886130751.py:12: RuntimeWarning: coroutine 'Action.serve' was never awaited\n",
      "  action_deploy.serve(name=\"pytorch-mnist-deployment\")\n",
      "RuntimeWarning: Enable tracemalloc to get the object allocation traceback\n"
     ]
    }
   ],
   "source": [
    "@action(name=f'Execution2', log_prints=True)\n",
    "def execution():\n",
    "    x_train, y_train, x_test, y_test = prepare_datasets()\n",
    "    train_loader, test_loader = create_data_loaders(\n",
    "        x_train, y_train, x_test, y_test)\n",
    "    model = train_model(train_loader)\n",
    "    test_model(model, test_loader)\n",
    "\n",
    "# This can only be executed in a Python script, not in a notebook\n",
    "if __name__ == '__main__':\n",
    "    action_deploy = Action(entrypoint=execution, name=\"pytorch-mnist-action\")\n",
    "    action_deploy.serve(name=\"pytorch-mnist-deployment\")"
   ]
  },
  {
   "cell_type": "markdown",
   "metadata": {},
   "source": [
    "# Run and Prove!"
   ]
  },
  {
   "cell_type": "markdown",
   "metadata": {},
   "source": [
    "Up to this point, we have primarily focused on training and testing our model using PyTorch while monitoring its execution through the Giza platform. However, if you are here, it's likely because you want to harness the capabilities of ZKML (Zero-Knowledge Machine Learning) and have the ability to demonstrate the integrity of your model's inferences.\n",
    "\n",
    "In this section, we will delve into what it means to prove the integrity of inferences, what setup is required to make this possible, and how to verify the proof."
   ]
  },
  {
   "cell_type": "markdown",
   "metadata": {},
   "source": [
    "ZKML leverages validity proofs like SNARKs and STARKs, which enables the verification of the correctness of computational processes. By deploying such proof systems in machine learning applications, we gain the ability to validate the inference of ML models or to confirm that a specific input produced a certain output with a given model.\n",
    "\n",
    "To generate ZK proofs for your model inferences, you must first convert your model into ZK circuits. This conversion process involves leveraging programming languages that specialize in building ZK circuits, such as [Cairo-lang](https://www.cairo-lang.org/). Subsequently, using the Giza-CLI, you can transpile your model from ONNX to Cairo. This process will be covered in the upcoming sections.\n",
    "\n",
    "It's worth mentioning that at present, Orion and Action-SDK exclusively supports Cairo as a ZK backend. However, we are actively working on expanding support for other ZK backends (e.g; EZKL, Noir ...).\n",
    "\n",
    "![Giza Stack](./imgs/giza_stack.png)"
   ]
  },
  {
   "cell_type": "markdown",
   "metadata": {},
   "source": [
    "## Convert to ONNX\n",
    "\n",
    "Before invoking the Giza transpiler to convert your model into Cairo, you must first ensure that your model is converted to ONNX. We will explore this process in the following section.\n",
    "\n",
    "ONNX, short for Open Neural Network Exchange, is an open format for representing and exchanging machine learning models between different frameworks and libraries. It serves as an intermediary format that allows you to move models seamlessly between various platforms and tools, facilitating interoperability and flexibility in the machine learning ecosystem."
   ]
  },
  {
   "cell_type": "code",
   "execution_count": 9,
   "metadata": {},
   "outputs": [
    {
     "data": {
      "text/html": [
       "<pre style=\"white-space:pre;overflow-x:auto;line-height:normal;font-family:Menlo,'DejaVu Sans Mono',consolas,'Courier New',monospace\">08:36:59.798 | <span style=\"color: #008080; text-decoration-color: #008080\">INFO</span>    | Created flow run<span style=\"color: #800080; text-decoration-color: #800080\"> 'judicious-sparrow'</span> for flow<span style=\"color: #800080; text-decoration-color: #800080; font-weight: bold\"> 'Action: Convert To ONNX'</span>\n",
       "</pre>\n"
      ],
      "text/plain": [
       "08:36:59.798 | \u001b[36mINFO\u001b[0m    | Created flow run\u001b[35m 'judicious-sparrow'\u001b[0m for flow\u001b[1;35m 'Action: Convert To ONNX'\u001b[0m\n"
      ]
     },
     "metadata": {},
     "output_type": "display_data"
    },
    {
     "data": {
      "text/html": [
       "<pre style=\"white-space:pre;overflow-x:auto;line-height:normal;font-family:Menlo,'DejaVu Sans Mono',consolas,'Courier New',monospace\">08:36:59.802 | <span style=\"color: #008080; text-decoration-color: #008080\">INFO</span>    | Action run 'judicious-sparrow' - View at <span style=\"color: #0000ff; text-decoration-color: #0000ff\">https://actions-server-tyfar2-dblzzhtf5q-ew.a.run.app/flow-runs/flow-run/e5cdb72a-8b2a-4ed9-aacb-687711c8af92</span>\n",
       "</pre>\n"
      ],
      "text/plain": [
       "08:36:59.802 | \u001b[36mINFO\u001b[0m    | Action run 'judicious-sparrow' - View at \u001b[94mhttps://actions-server-tyfar2-dblzzhtf5q-ew.a.run.app/flow-runs/flow-run/e5cdb72a-8b2a-4ed9-aacb-687711c8af92\u001b[0m\n"
      ]
     },
     "metadata": {},
     "output_type": "display_data"
    },
    {
     "data": {
      "text/html": [
       "<pre style=\"white-space:pre;overflow-x:auto;line-height:normal;font-family:Menlo,'DejaVu Sans Mono',consolas,'Courier New',monospace\">08:37:00.400 | <span style=\"color: #008080; text-decoration-color: #008080\">INFO</span>    | Action run 'judicious-sparrow' - Created task run 'Prepare Datasets-0' for task 'Prepare Datasets'\n",
       "</pre>\n"
      ],
      "text/plain": [
       "08:37:00.400 | \u001b[36mINFO\u001b[0m    | Action run 'judicious-sparrow' - Created task run 'Prepare Datasets-0' for task 'Prepare Datasets'\n"
      ]
     },
     "metadata": {},
     "output_type": "display_data"
    },
    {
     "data": {
      "text/html": [
       "<pre style=\"white-space:pre;overflow-x:auto;line-height:normal;font-family:Menlo,'DejaVu Sans Mono',consolas,'Courier New',monospace\">08:37:00.403 | <span style=\"color: #008080; text-decoration-color: #008080\">INFO</span>    | Action run 'judicious-sparrow' - Executing 'Prepare Datasets-0' immediately...\n",
       "</pre>\n"
      ],
      "text/plain": [
       "08:37:00.403 | \u001b[36mINFO\u001b[0m    | Action run 'judicious-sparrow' - Executing 'Prepare Datasets-0' immediately...\n"
      ]
     },
     "metadata": {},
     "output_type": "display_data"
    },
    {
     "data": {
      "text/html": [
       "<pre style=\"white-space:pre;overflow-x:auto;line-height:normal;font-family:Menlo,'DejaVu Sans Mono',consolas,'Courier New',monospace\">08:37:00.907 | <span style=\"color: #008080; text-decoration-color: #008080\">INFO</span>    | Task run 'Prepare Datasets-0' - Prepare dataset...\n",
       "</pre>\n"
      ],
      "text/plain": [
       "08:37:00.907 | \u001b[36mINFO\u001b[0m    | Task run 'Prepare Datasets-0' - Prepare dataset...\n"
      ]
     },
     "metadata": {},
     "output_type": "display_data"
    },
    {
     "data": {
      "text/html": [
       "<pre style=\"white-space:pre;overflow-x:auto;line-height:normal;font-family:Menlo,'DejaVu Sans Mono',consolas,'Courier New',monospace\">08:37:04.046 | <span style=\"color: #008080; text-decoration-color: #008080\">INFO</span>    | Task run 'Prepare Datasets-0' - ✅ Datasets prepared successfully\n",
       "</pre>\n"
      ],
      "text/plain": [
       "08:37:04.046 | \u001b[36mINFO\u001b[0m    | Task run 'Prepare Datasets-0' - ✅ Datasets prepared successfully\n"
      ]
     },
     "metadata": {},
     "output_type": "display_data"
    },
    {
     "data": {
      "text/html": [
       "<pre style=\"white-space:pre;overflow-x:auto;line-height:normal;font-family:Menlo,'DejaVu Sans Mono',consolas,'Courier New',monospace\">08:37:04.270 | <span style=\"color: #008080; text-decoration-color: #008080\">INFO</span>    | Task run 'Prepare Datasets-0' - Finished in state <span style=\"color: #008000; text-decoration-color: #008000\">Completed</span>()\n",
       "</pre>\n"
      ],
      "text/plain": [
       "08:37:04.270 | \u001b[36mINFO\u001b[0m    | Task run 'Prepare Datasets-0' - Finished in state \u001b[32mCompleted\u001b[0m()\n"
      ]
     },
     "metadata": {},
     "output_type": "display_data"
    },
    {
     "data": {
      "text/html": [
       "<pre style=\"white-space:pre;overflow-x:auto;line-height:normal;font-family:Menlo,'DejaVu Sans Mono',consolas,'Courier New',monospace\">08:37:04.507 | <span style=\"color: #008080; text-decoration-color: #008080\">INFO</span>    | Action run 'judicious-sparrow' - Created task run 'Create Loaders-0' for task 'Create Loaders'\n",
       "</pre>\n"
      ],
      "text/plain": [
       "08:37:04.507 | \u001b[36mINFO\u001b[0m    | Action run 'judicious-sparrow' - Created task run 'Create Loaders-0' for task 'Create Loaders'\n"
      ]
     },
     "metadata": {},
     "output_type": "display_data"
    },
    {
     "data": {
      "text/html": [
       "<pre style=\"white-space:pre;overflow-x:auto;line-height:normal;font-family:Menlo,'DejaVu Sans Mono',consolas,'Courier New',monospace\">08:37:04.510 | <span style=\"color: #008080; text-decoration-color: #008080\">INFO</span>    | Action run 'judicious-sparrow' - Executing 'Create Loaders-0' immediately...\n",
       "</pre>\n"
      ],
      "text/plain": [
       "08:37:04.510 | \u001b[36mINFO\u001b[0m    | Action run 'judicious-sparrow' - Executing 'Create Loaders-0' immediately...\n"
      ]
     },
     "metadata": {},
     "output_type": "display_data"
    },
    {
     "data": {
      "text/html": [
       "<pre style=\"white-space:pre;overflow-x:auto;line-height:normal;font-family:Menlo,'DejaVu Sans Mono',consolas,'Courier New',monospace\">08:37:04.923 | <span style=\"color: #008080; text-decoration-color: #008080\">INFO</span>    | Task run 'Create Loaders-0' - Create loaders...\n",
       "</pre>\n"
      ],
      "text/plain": [
       "08:37:04.923 | \u001b[36mINFO\u001b[0m    | Task run 'Create Loaders-0' - Create loaders...\n"
      ]
     },
     "metadata": {},
     "output_type": "display_data"
    },
    {
     "data": {
      "text/html": [
       "<pre style=\"white-space:pre;overflow-x:auto;line-height:normal;font-family:Menlo,'DejaVu Sans Mono',consolas,'Courier New',monospace\">08:37:04.927 | <span style=\"color: #008080; text-decoration-color: #008080\">INFO</span>    | Task run 'Create Loaders-0' - ✅ Loaders created!\n",
       "</pre>\n"
      ],
      "text/plain": [
       "08:37:04.927 | \u001b[36mINFO\u001b[0m    | Task run 'Create Loaders-0' - ✅ Loaders created!\n"
      ]
     },
     "metadata": {},
     "output_type": "display_data"
    },
    {
     "data": {
      "text/html": [
       "<pre style=\"white-space:pre;overflow-x:auto;line-height:normal;font-family:Menlo,'DejaVu Sans Mono',consolas,'Courier New',monospace\">08:37:05.141 | <span style=\"color: #008080; text-decoration-color: #008080\">INFO</span>    | Task run 'Create Loaders-0' - Finished in state <span style=\"color: #008000; text-decoration-color: #008000\">Completed</span>()\n",
       "</pre>\n"
      ],
      "text/plain": [
       "08:37:05.141 | \u001b[36mINFO\u001b[0m    | Task run 'Create Loaders-0' - Finished in state \u001b[32mCompleted\u001b[0m()\n"
      ]
     },
     "metadata": {},
     "output_type": "display_data"
    },
    {
     "data": {
      "text/html": [
       "<pre style=\"white-space:pre;overflow-x:auto;line-height:normal;font-family:Menlo,'DejaVu Sans Mono',consolas,'Courier New',monospace\">08:37:05.342 | <span style=\"color: #008080; text-decoration-color: #008080\">INFO</span>    | Action run 'judicious-sparrow' - Created task run 'Train model-0' for task 'Train model'\n",
       "</pre>\n"
      ],
      "text/plain": [
       "08:37:05.342 | \u001b[36mINFO\u001b[0m    | Action run 'judicious-sparrow' - Created task run 'Train model-0' for task 'Train model'\n"
      ]
     },
     "metadata": {},
     "output_type": "display_data"
    },
    {
     "data": {
      "text/html": [
       "<pre style=\"white-space:pre;overflow-x:auto;line-height:normal;font-family:Menlo,'DejaVu Sans Mono',consolas,'Courier New',monospace\">08:37:05.344 | <span style=\"color: #008080; text-decoration-color: #008080\">INFO</span>    | Action run 'judicious-sparrow' - Executing 'Train model-0' immediately...\n",
       "</pre>\n"
      ],
      "text/plain": [
       "08:37:05.344 | \u001b[36mINFO\u001b[0m    | Action run 'judicious-sparrow' - Executing 'Train model-0' immediately...\n"
      ]
     },
     "metadata": {},
     "output_type": "display_data"
    },
    {
     "data": {
      "text/html": [
       "<pre style=\"white-space:pre;overflow-x:auto;line-height:normal;font-family:Menlo,'DejaVu Sans Mono',consolas,'Courier New',monospace\">08:37:05.751 | <span style=\"color: #008080; text-decoration-color: #008080\">INFO</span>    | Task run 'Train model-0' - Train model...\n",
       "</pre>\n"
      ],
      "text/plain": [
       "08:37:05.751 | \u001b[36mINFO\u001b[0m    | Task run 'Train model-0' - Train model...\n"
      ]
     },
     "metadata": {},
     "output_type": "display_data"
    },
    {
     "data": {
      "text/html": [
       "<pre style=\"white-space:pre;overflow-x:auto;line-height:normal;font-family:Menlo,'DejaVu Sans Mono',consolas,'Courier New',monospace\">08:37:05.962 | <span style=\"color: #008080; text-decoration-color: #008080\">INFO</span>    | Task run 'Train model-0' - Epoch [1/10], Step [100/235], Loss: 1.7431\n",
       "</pre>\n"
      ],
      "text/plain": [
       "08:37:05.962 | \u001b[36mINFO\u001b[0m    | Task run 'Train model-0' - Epoch [1/10], Step [100/235], Loss: 1.7431\n"
      ]
     },
     "metadata": {},
     "output_type": "display_data"
    },
    {
     "data": {
      "text/html": [
       "<pre style=\"white-space:pre;overflow-x:auto;line-height:normal;font-family:Menlo,'DejaVu Sans Mono',consolas,'Courier New',monospace\">08:37:06.047 | <span style=\"color: #008080; text-decoration-color: #008080\">INFO</span>    | Task run 'Train model-0' - Epoch [1/10], Step [200/235], Loss: 1.0958\n",
       "</pre>\n"
      ],
      "text/plain": [
       "08:37:06.047 | \u001b[36mINFO\u001b[0m    | Task run 'Train model-0' - Epoch [1/10], Step [200/235], Loss: 1.0958\n"
      ]
     },
     "metadata": {},
     "output_type": "display_data"
    },
    {
     "data": {
      "text/html": [
       "<pre style=\"white-space:pre;overflow-x:auto;line-height:normal;font-family:Menlo,'DejaVu Sans Mono',consolas,'Courier New',monospace\">08:37:06.163 | <span style=\"color: #008080; text-decoration-color: #008080\">INFO</span>    | Task run 'Train model-0' - Epoch [2/10], Step [100/235], Loss: 0.7091\n",
       "</pre>\n"
      ],
      "text/plain": [
       "08:37:06.163 | \u001b[36mINFO\u001b[0m    | Task run 'Train model-0' - Epoch [2/10], Step [100/235], Loss: 0.7091\n"
      ]
     },
     "metadata": {},
     "output_type": "display_data"
    },
    {
     "data": {
      "text/html": [
       "<pre style=\"white-space:pre;overflow-x:auto;line-height:normal;font-family:Menlo,'DejaVu Sans Mono',consolas,'Courier New',monospace\">08:37:06.249 | <span style=\"color: #008080; text-decoration-color: #008080\">INFO</span>    | Task run 'Train model-0' - Epoch [2/10], Step [200/235], Loss: 0.6062\n",
       "</pre>\n"
      ],
      "text/plain": [
       "08:37:06.249 | \u001b[36mINFO\u001b[0m    | Task run 'Train model-0' - Epoch [2/10], Step [200/235], Loss: 0.6062\n"
      ]
     },
     "metadata": {},
     "output_type": "display_data"
    },
    {
     "data": {
      "text/html": [
       "<pre style=\"white-space:pre;overflow-x:auto;line-height:normal;font-family:Menlo,'DejaVu Sans Mono',consolas,'Courier New',monospace\">08:37:06.363 | <span style=\"color: #008080; text-decoration-color: #008080\">INFO</span>    | Task run 'Train model-0' - Epoch [3/10], Step [100/235], Loss: 0.5654\n",
       "</pre>\n"
      ],
      "text/plain": [
       "08:37:06.363 | \u001b[36mINFO\u001b[0m    | Task run 'Train model-0' - Epoch [3/10], Step [100/235], Loss: 0.5654\n"
      ]
     },
     "metadata": {},
     "output_type": "display_data"
    },
    {
     "data": {
      "text/html": [
       "<pre style=\"white-space:pre;overflow-x:auto;line-height:normal;font-family:Menlo,'DejaVu Sans Mono',consolas,'Courier New',monospace\">08:37:06.447 | <span style=\"color: #008080; text-decoration-color: #008080\">INFO</span>    | Task run 'Train model-0' - Epoch [3/10], Step [200/235], Loss: 0.4803\n",
       "</pre>\n"
      ],
      "text/plain": [
       "08:37:06.447 | \u001b[36mINFO\u001b[0m    | Task run 'Train model-0' - Epoch [3/10], Step [200/235], Loss: 0.4803\n"
      ]
     },
     "metadata": {},
     "output_type": "display_data"
    },
    {
     "data": {
      "text/html": [
       "<pre style=\"white-space:pre;overflow-x:auto;line-height:normal;font-family:Menlo,'DejaVu Sans Mono',consolas,'Courier New',monospace\">08:37:06.562 | <span style=\"color: #008080; text-decoration-color: #008080\">INFO</span>    | Task run 'Train model-0' - Epoch [4/10], Step [100/235], Loss: 0.3900\n",
       "</pre>\n"
      ],
      "text/plain": [
       "08:37:06.562 | \u001b[36mINFO\u001b[0m    | Task run 'Train model-0' - Epoch [4/10], Step [100/235], Loss: 0.3900\n"
      ]
     },
     "metadata": {},
     "output_type": "display_data"
    },
    {
     "data": {
      "text/html": [
       "<pre style=\"white-space:pre;overflow-x:auto;line-height:normal;font-family:Menlo,'DejaVu Sans Mono',consolas,'Courier New',monospace\">08:37:06.646 | <span style=\"color: #008080; text-decoration-color: #008080\">INFO</span>    | Task run 'Train model-0' - Epoch [4/10], Step [200/235], Loss: 0.3499\n",
       "</pre>\n"
      ],
      "text/plain": [
       "08:37:06.646 | \u001b[36mINFO\u001b[0m    | Task run 'Train model-0' - Epoch [4/10], Step [200/235], Loss: 0.3499\n"
      ]
     },
     "metadata": {},
     "output_type": "display_data"
    },
    {
     "data": {
      "text/html": [
       "<pre style=\"white-space:pre;overflow-x:auto;line-height:normal;font-family:Menlo,'DejaVu Sans Mono',consolas,'Courier New',monospace\">08:37:06.760 | <span style=\"color: #008080; text-decoration-color: #008080\">INFO</span>    | Task run 'Train model-0' - Epoch [5/10], Step [100/235], Loss: 0.4162\n",
       "</pre>\n"
      ],
      "text/plain": [
       "08:37:06.760 | \u001b[36mINFO\u001b[0m    | Task run 'Train model-0' - Epoch [5/10], Step [100/235], Loss: 0.4162\n"
      ]
     },
     "metadata": {},
     "output_type": "display_data"
    },
    {
     "data": {
      "text/html": [
       "<pre style=\"white-space:pre;overflow-x:auto;line-height:normal;font-family:Menlo,'DejaVu Sans Mono',consolas,'Courier New',monospace\">08:37:06.847 | <span style=\"color: #008080; text-decoration-color: #008080\">INFO</span>    | Task run 'Train model-0' - Epoch [5/10], Step [200/235], Loss: 0.3271\n",
       "</pre>\n"
      ],
      "text/plain": [
       "08:37:06.847 | \u001b[36mINFO\u001b[0m    | Task run 'Train model-0' - Epoch [5/10], Step [200/235], Loss: 0.3271\n"
      ]
     },
     "metadata": {},
     "output_type": "display_data"
    },
    {
     "data": {
      "text/html": [
       "<pre style=\"white-space:pre;overflow-x:auto;line-height:normal;font-family:Menlo,'DejaVu Sans Mono',consolas,'Courier New',monospace\">08:37:06.962 | <span style=\"color: #008080; text-decoration-color: #008080\">INFO</span>    | Task run 'Train model-0' - Epoch [6/10], Step [100/235], Loss: 0.3150\n",
       "</pre>\n"
      ],
      "text/plain": [
       "08:37:06.962 | \u001b[36mINFO\u001b[0m    | Task run 'Train model-0' - Epoch [6/10], Step [100/235], Loss: 0.3150\n"
      ]
     },
     "metadata": {},
     "output_type": "display_data"
    },
    {
     "data": {
      "text/html": [
       "<pre style=\"white-space:pre;overflow-x:auto;line-height:normal;font-family:Menlo,'DejaVu Sans Mono',consolas,'Courier New',monospace\">08:37:07.047 | <span style=\"color: #008080; text-decoration-color: #008080\">INFO</span>    | Task run 'Train model-0' - Epoch [6/10], Step [200/235], Loss: 0.3846\n",
       "</pre>\n"
      ],
      "text/plain": [
       "08:37:07.047 | \u001b[36mINFO\u001b[0m    | Task run 'Train model-0' - Epoch [6/10], Step [200/235], Loss: 0.3846\n"
      ]
     },
     "metadata": {},
     "output_type": "display_data"
    },
    {
     "data": {
      "text/html": [
       "<pre style=\"white-space:pre;overflow-x:auto;line-height:normal;font-family:Menlo,'DejaVu Sans Mono',consolas,'Courier New',monospace\">08:37:07.164 | <span style=\"color: #008080; text-decoration-color: #008080\">INFO</span>    | Task run 'Train model-0' - Epoch [7/10], Step [100/235], Loss: 0.3241\n",
       "</pre>\n"
      ],
      "text/plain": [
       "08:37:07.164 | \u001b[36mINFO\u001b[0m    | Task run 'Train model-0' - Epoch [7/10], Step [100/235], Loss: 0.3241\n"
      ]
     },
     "metadata": {},
     "output_type": "display_data"
    },
    {
     "data": {
      "text/html": [
       "<pre style=\"white-space:pre;overflow-x:auto;line-height:normal;font-family:Menlo,'DejaVu Sans Mono',consolas,'Courier New',monospace\">08:37:07.250 | <span style=\"color: #008080; text-decoration-color: #008080\">INFO</span>    | Task run 'Train model-0' - Epoch [7/10], Step [200/235], Loss: 0.3841\n",
       "</pre>\n"
      ],
      "text/plain": [
       "08:37:07.250 | \u001b[36mINFO\u001b[0m    | Task run 'Train model-0' - Epoch [7/10], Step [200/235], Loss: 0.3841\n"
      ]
     },
     "metadata": {},
     "output_type": "display_data"
    },
    {
     "data": {
      "text/html": [
       "<pre style=\"white-space:pre;overflow-x:auto;line-height:normal;font-family:Menlo,'DejaVu Sans Mono',consolas,'Courier New',monospace\">08:37:07.365 | <span style=\"color: #008080; text-decoration-color: #008080\">INFO</span>    | Task run 'Train model-0' - Epoch [8/10], Step [100/235], Loss: 0.3249\n",
       "</pre>\n"
      ],
      "text/plain": [
       "08:37:07.365 | \u001b[36mINFO\u001b[0m    | Task run 'Train model-0' - Epoch [8/10], Step [100/235], Loss: 0.3249\n"
      ]
     },
     "metadata": {},
     "output_type": "display_data"
    },
    {
     "data": {
      "text/html": [
       "<pre style=\"white-space:pre;overflow-x:auto;line-height:normal;font-family:Menlo,'DejaVu Sans Mono',consolas,'Courier New',monospace\">08:37:07.450 | <span style=\"color: #008080; text-decoration-color: #008080\">INFO</span>    | Task run 'Train model-0' - Epoch [8/10], Step [200/235], Loss: 0.3132\n",
       "</pre>\n"
      ],
      "text/plain": [
       "08:37:07.450 | \u001b[36mINFO\u001b[0m    | Task run 'Train model-0' - Epoch [8/10], Step [200/235], Loss: 0.3132\n"
      ]
     },
     "metadata": {},
     "output_type": "display_data"
    },
    {
     "data": {
      "text/html": [
       "<pre style=\"white-space:pre;overflow-x:auto;line-height:normal;font-family:Menlo,'DejaVu Sans Mono',consolas,'Courier New',monospace\">08:37:07.566 | <span style=\"color: #008080; text-decoration-color: #008080\">INFO</span>    | Task run 'Train model-0' - Epoch [9/10], Step [100/235], Loss: 0.3759\n",
       "</pre>\n"
      ],
      "text/plain": [
       "08:37:07.566 | \u001b[36mINFO\u001b[0m    | Task run 'Train model-0' - Epoch [9/10], Step [100/235], Loss: 0.3759\n"
      ]
     },
     "metadata": {},
     "output_type": "display_data"
    },
    {
     "data": {
      "text/html": [
       "<pre style=\"white-space:pre;overflow-x:auto;line-height:normal;font-family:Menlo,'DejaVu Sans Mono',consolas,'Courier New',monospace\">08:37:07.651 | <span style=\"color: #008080; text-decoration-color: #008080\">INFO</span>    | Task run 'Train model-0' - Epoch [9/10], Step [200/235], Loss: 0.3705\n",
       "</pre>\n"
      ],
      "text/plain": [
       "08:37:07.651 | \u001b[36mINFO\u001b[0m    | Task run 'Train model-0' - Epoch [9/10], Step [200/235], Loss: 0.3705\n"
      ]
     },
     "metadata": {},
     "output_type": "display_data"
    },
    {
     "data": {
      "text/html": [
       "<pre style=\"white-space:pre;overflow-x:auto;line-height:normal;font-family:Menlo,'DejaVu Sans Mono',consolas,'Courier New',monospace\">08:37:07.765 | <span style=\"color: #008080; text-decoration-color: #008080\">INFO</span>    | Task run 'Train model-0' - Epoch [10/10], Step [100/235], Loss: 0.3063\n",
       "</pre>\n"
      ],
      "text/plain": [
       "08:37:07.765 | \u001b[36mINFO\u001b[0m    | Task run 'Train model-0' - Epoch [10/10], Step [100/235], Loss: 0.3063\n"
      ]
     },
     "metadata": {},
     "output_type": "display_data"
    },
    {
     "data": {
      "text/html": [
       "<pre style=\"white-space:pre;overflow-x:auto;line-height:normal;font-family:Menlo,'DejaVu Sans Mono',consolas,'Courier New',monospace\">08:37:07.850 | <span style=\"color: #008080; text-decoration-color: #008080\">INFO</span>    | Task run 'Train model-0' - Epoch [10/10], Step [200/235], Loss: 0.3087\n",
       "</pre>\n"
      ],
      "text/plain": [
       "08:37:07.850 | \u001b[36mINFO\u001b[0m    | Task run 'Train model-0' - Epoch [10/10], Step [200/235], Loss: 0.3087\n"
      ]
     },
     "metadata": {},
     "output_type": "display_data"
    },
    {
     "data": {
      "text/html": [
       "<pre style=\"white-space:pre;overflow-x:auto;line-height:normal;font-family:Menlo,'DejaVu Sans Mono',consolas,'Courier New',monospace\">08:37:07.882 | <span style=\"color: #008080; text-decoration-color: #008080\">INFO</span>    | Task run 'Train model-0' - ✅ Model trained successfully\n",
       "</pre>\n"
      ],
      "text/plain": [
       "08:37:07.882 | \u001b[36mINFO\u001b[0m    | Task run 'Train model-0' - ✅ Model trained successfully\n"
      ]
     },
     "metadata": {},
     "output_type": "display_data"
    },
    {
     "data": {
      "text/html": [
       "<pre style=\"white-space:pre;overflow-x:auto;line-height:normal;font-family:Menlo,'DejaVu Sans Mono',consolas,'Courier New',monospace\">08:37:08.096 | <span style=\"color: #008080; text-decoration-color: #008080\">INFO</span>    | Task run 'Train model-0' - Finished in state <span style=\"color: #008000; text-decoration-color: #008000\">Completed</span>()\n",
       "</pre>\n"
      ],
      "text/plain": [
       "08:37:08.096 | \u001b[36mINFO\u001b[0m    | Task run 'Train model-0' - Finished in state \u001b[32mCompleted\u001b[0m()\n"
      ]
     },
     "metadata": {},
     "output_type": "display_data"
    },
    {
     "data": {
      "text/html": [
       "<pre style=\"white-space:pre;overflow-x:auto;line-height:normal;font-family:Menlo,'DejaVu Sans Mono',consolas,'Courier New',monospace\">08:37:08.306 | <span style=\"color: #008080; text-decoration-color: #008080\">INFO</span>    | Action run 'judicious-sparrow' - Created task run 'Test model-0' for task 'Test model'\n",
       "</pre>\n"
      ],
      "text/plain": [
       "08:37:08.306 | \u001b[36mINFO\u001b[0m    | Action run 'judicious-sparrow' - Created task run 'Test model-0' for task 'Test model'\n"
      ]
     },
     "metadata": {},
     "output_type": "display_data"
    },
    {
     "data": {
      "text/html": [
       "<pre style=\"white-space:pre;overflow-x:auto;line-height:normal;font-family:Menlo,'DejaVu Sans Mono',consolas,'Courier New',monospace\">08:37:08.310 | <span style=\"color: #008080; text-decoration-color: #008080\">INFO</span>    | Action run 'judicious-sparrow' - Executing 'Test model-0' immediately...\n",
       "</pre>\n"
      ],
      "text/plain": [
       "08:37:08.310 | \u001b[36mINFO\u001b[0m    | Action run 'judicious-sparrow' - Executing 'Test model-0' immediately...\n"
      ]
     },
     "metadata": {},
     "output_type": "display_data"
    },
    {
     "data": {
      "text/html": [
       "<pre style=\"white-space:pre;overflow-x:auto;line-height:normal;font-family:Menlo,'DejaVu Sans Mono',consolas,'Courier New',monospace\">08:37:08.714 | <span style=\"color: #008080; text-decoration-color: #008080\">INFO</span>    | Task run 'Test model-0' - Test model...\n",
       "</pre>\n"
      ],
      "text/plain": [
       "08:37:08.714 | \u001b[36mINFO\u001b[0m    | Task run 'Test model-0' - Test model...\n"
      ]
     },
     "metadata": {},
     "output_type": "display_data"
    },
    {
     "data": {
      "text/html": [
       "<pre style=\"white-space:pre;overflow-x:auto;line-height:normal;font-family:Menlo,'DejaVu Sans Mono',consolas,'Courier New',monospace\">08:37:08.763 | <span style=\"color: #008080; text-decoration-color: #008080\">INFO</span>    | Task run 'Test model-0' - Accuracy of the network on the 10000 test images: 91.59 %\n",
       "</pre>\n"
      ],
      "text/plain": [
       "08:37:08.763 | \u001b[36mINFO\u001b[0m    | Task run 'Test model-0' - Accuracy of the network on the 10000 test images: 91.59 %\n"
      ]
     },
     "metadata": {},
     "output_type": "display_data"
    },
    {
     "data": {
      "text/html": [
       "<pre style=\"white-space:pre;overflow-x:auto;line-height:normal;font-family:Menlo,'DejaVu Sans Mono',consolas,'Courier New',monospace\">08:37:08.983 | <span style=\"color: #008080; text-decoration-color: #008080\">INFO</span>    | Task run 'Test model-0' - Finished in state <span style=\"color: #008000; text-decoration-color: #008000\">Completed</span>()\n",
       "</pre>\n"
      ],
      "text/plain": [
       "08:37:08.983 | \u001b[36mINFO\u001b[0m    | Task run 'Test model-0' - Finished in state \u001b[32mCompleted\u001b[0m()\n"
      ]
     },
     "metadata": {},
     "output_type": "display_data"
    },
    {
     "data": {
      "text/html": [
       "<pre style=\"white-space:pre;overflow-x:auto;line-height:normal;font-family:Menlo,'DejaVu Sans Mono',consolas,'Courier New',monospace\">08:37:09.204 | <span style=\"color: #008080; text-decoration-color: #008080\">INFO</span>    | Action run 'judicious-sparrow' - Created task run 'Convert To ONNX-0' for task 'Convert To ONNX'\n",
       "</pre>\n"
      ],
      "text/plain": [
       "08:37:09.204 | \u001b[36mINFO\u001b[0m    | Action run 'judicious-sparrow' - Created task run 'Convert To ONNX-0' for task 'Convert To ONNX'\n"
      ]
     },
     "metadata": {},
     "output_type": "display_data"
    },
    {
     "data": {
      "text/html": [
       "<pre style=\"white-space:pre;overflow-x:auto;line-height:normal;font-family:Menlo,'DejaVu Sans Mono',consolas,'Courier New',monospace\">08:37:09.206 | <span style=\"color: #008080; text-decoration-color: #008080\">INFO</span>    | Action run 'judicious-sparrow' - Executing 'Convert To ONNX-0' immediately...\n",
       "</pre>\n"
      ],
      "text/plain": [
       "08:37:09.206 | \u001b[36mINFO\u001b[0m    | Action run 'judicious-sparrow' - Executing 'Convert To ONNX-0' immediately...\n"
      ]
     },
     "metadata": {},
     "output_type": "display_data"
    },
    {
     "data": {
      "text/html": [
       "<pre style=\"white-space:pre;overflow-x:auto;line-height:normal;font-family:Menlo,'DejaVu Sans Mono',consolas,'Courier New',monospace\">08:37:09.653 | <span style=\"color: #008080; text-decoration-color: #008080\">INFO</span>    | Task run 'Convert To ONNX-0' - Model has been converted to ONNX and saved as mnist_model.onnx\n",
       "</pre>\n"
      ],
      "text/plain": [
       "08:37:09.653 | \u001b[36mINFO\u001b[0m    | Task run 'Convert To ONNX-0' - Model has been converted to ONNX and saved as mnist_model.onnx\n"
      ]
     },
     "metadata": {},
     "output_type": "display_data"
    },
    {
     "data": {
      "text/html": [
       "<pre style=\"white-space:pre;overflow-x:auto;line-height:normal;font-family:Menlo,'DejaVu Sans Mono',consolas,'Courier New',monospace\">08:37:09.929 | <span style=\"color: #008080; text-decoration-color: #008080\">INFO</span>    | Task run 'Convert To ONNX-0' - Finished in state <span style=\"color: #008000; text-decoration-color: #008000\">Completed</span>()\n",
       "</pre>\n"
      ],
      "text/plain": [
       "08:37:09.929 | \u001b[36mINFO\u001b[0m    | Task run 'Convert To ONNX-0' - Finished in state \u001b[32mCompleted\u001b[0m()\n"
      ]
     },
     "metadata": {},
     "output_type": "display_data"
    },
    {
     "data": {
      "text/html": [
       "<pre style=\"white-space:pre;overflow-x:auto;line-height:normal;font-family:Menlo,'DejaVu Sans Mono',consolas,'Courier New',monospace\">08:37:10.240 | <span style=\"color: #008080; text-decoration-color: #008080\">INFO</span>    | Action run 'judicious-sparrow' - Finished in state <span style=\"color: #008000; text-decoration-color: #008000\">Completed</span>('All states completed.')\n",
       "</pre>\n"
      ],
      "text/plain": [
       "08:37:10.240 | \u001b[36mINFO\u001b[0m    | Action run 'judicious-sparrow' - Finished in state \u001b[32mCompleted\u001b[0m('All states completed.')\n"
      ]
     },
     "metadata": {},
     "output_type": "display_data"
    },
    {
     "data": {
      "text/plain": [
       "[Completed(message=None, type=COMPLETED, result=UnpersistedResult(type='unpersisted', artifact_type='result', artifact_description='Unpersisted result of type `tuple`')),\n",
       " Completed(message=None, type=COMPLETED, result=UnpersistedResult(type='unpersisted', artifact_type='result', artifact_description='Unpersisted result of type `tuple`')),\n",
       " Completed(message=None, type=COMPLETED, result=UnpersistedResult(type='unpersisted', artifact_type='result', artifact_description='Unpersisted result of type `NeuralNet`')),\n",
       " Completed(message=None, type=COMPLETED, result=UnpersistedResult(type='unpersisted', artifact_type='result', artifact_description='Unpersisted result of type `NoneType`')),\n",
       " Completed(message=None, type=COMPLETED, result=UnpersistedResult(type='unpersisted', artifact_type='result', artifact_description='Unpersisted result of type `NoneType`'))]"
      ]
     },
     "execution_count": 9,
     "metadata": {},
     "output_type": "execute_result"
    }
   ],
   "source": [
    "import torch.onnx\n",
    "\n",
    "@task(name=f'Convert To ONNX')\n",
    "def convert_to_onnx(model, onnx_file_path):\n",
    "    dummy_input = torch.randn(1, input_size).to(device)\n",
    "    torch.onnx.export(model, dummy_input, onnx_file_path,\n",
    "                      export_params=True, opset_version=10, do_constant_folding=True)\n",
    "\n",
    "    print(f\"Model has been converted to ONNX and saved as {onnx_file_path}\")\n",
    "\n",
    "\n",
    "@action(name=\"Action: Convert To ONNX\", log_prints=True)\n",
    "def execution():\n",
    "    x_train, y_train, x_test, y_test = prepare_datasets()\n",
    "    train_loader, test_loader = create_data_loaders(\n",
    "        x_train, y_train, x_test, y_test)\n",
    "    model = train_model(train_loader)\n",
    "    test_model(model, test_loader)\n",
    "\n",
    "    # Convert to ONNX\n",
    "    onnx_file_path = \"mnist_model.onnx\"\n",
    "    convert_to_onnx(model, onnx_file_path)\n",
    "\n",
    "\n",
    "execution()"
   ]
  },
  {
   "cell_type": "markdown",
   "metadata": {},
   "source": [
    "## Transpile your model to Cairo and deploy on Giza"
   ]
  },
  {
   "cell_type": "markdown",
   "metadata": {},
   "source": [
    "Follow these steps to transpile your model to Orion Cairo code, compile the transpiled project, and deploy it on the Giza platform.\n",
    "\n",
    "### Step 1: Transpile Your Model\n",
    "Now that your model is converted to ONNX format, use the Giza-CLI to transpile it to Orion Cairo code:\n",
    "\n",
    "```bash\n",
    "$ giza transpile mnist_model.onnx --output-path verifiable_mnist\n",
    ">>> \n",
    "[giza][2024-02-07 16:32:13.511] Transpilation is fully compatible. \n",
    "Version compiled and Sierra is saved at Giza ✅\n",
    "```\n",
    "\n",
    "### Step 2: Deploy Your Model\n",
    "Thanks to full support for all operators used by MNIST model in the transpiler, your transpilation process is completely compatible. This ensures that your project compiles smoothly and has already been compiled behind the scenes on our platform. \n",
    "\n",
    "🚨: If your model incorporates operators that aren't supported by the transpiler, you may need to refine your Cairo project to ensure successful compilation. For more details, refer to the to [how-to-guide](https://actions.gizatech.xyz/how-to-guides/gizamodel#executing-verifiable-inference-with-gizamodel-and-onnx).\n",
    "\n",
    "With your model transpiled and compiled, it's now ready for deployment on the Giza platform. Our deployment process sets up services that handle prediction requests via a designated endpoint, using Cairo to ensure the provability of inferences.\n",
    "\n",
    "**Creating a New Deployment Service**\n",
    "\n",
    "Deploy your service, which will be ready to accept prediction requests at the /cairo_run endpoint, by using the following command:\n",
    "```bash\n",
    "giza deployments deploy --model-id <MODEL_ID> --version-id <VERSION_ID>\n",
    "```"
   ]
  },
  {
   "cell_type": "markdown",
   "metadata": {},
   "source": [
    "## Run your program\n",
    "\n",
    "Now that your Cairo model is deployed on the Giza platform, you have the capability to execute it. If you initiate a prediction using Giza Action without the `verifiable` mode, it runs the onnx version of the model.\n",
    "\n",
    "\n",
    "When you initiate a prediction using Giza Action in `verifiable` mode, it executes the Sierra program using CairoVM, generating trace and memory files for the proving. It also returns the output value and initiates a proving job to generate a Stark proof of the inference.\n",
    "\n"
   ]
  },
  {
   "cell_type": "markdown",
   "metadata": {},
   "source": [
    "First, let's make a prediction with the ONNX model (`veriable=False`) "
   ]
  },
  {
   "cell_type": "code",
   "execution_count": 11,
   "metadata": {},
   "outputs": [
    {
     "name": "stderr",
     "output_type": "stream",
     "text": [
      "/Users/tylerfarnan/anaconda3/lib/python3.11/site-packages/prefect/tasks.py:339: UserWarning: A task named 'Preprocess Image' and defined at '/Users/tylerfarnan/actions-sdk/giza_actions/task.py:5' conflicts with another task. Consider specifying a unique `name` parameter in the task definition:\n",
      "\n",
      " `@task(name='my_unique_name', ...)`\n",
      "  warnings.warn(\n",
      "/Users/tylerfarnan/anaconda3/lib/python3.11/site-packages/prefect/tasks.py:339: UserWarning: A task named 'Prediction with ONNX' and defined at '/Users/tylerfarnan/actions-sdk/giza_actions/task.py:19' conflicts with another task. Consider specifying a unique `name` parameter in the task definition:\n",
      "\n",
      " `@task(name='my_unique_name', ...)`\n",
      "  warnings.warn(\n",
      "/Users/tylerfarnan/anaconda3/lib/python3.11/site-packages/prefect/flows.py:337: UserWarning: A flow named 'Execution: Prediction with ONNX' and defined at '/Users/tylerfarnan/actions-sdk/giza_actions/action.py:37' conflicts with another flow. Consider specifying a unique `name` parameter in the flow definition:\n",
      "\n",
      " `@flow(name='my_unique_name', ...)`\n",
      "  warnings.warn(\n"
     ]
    },
    {
     "data": {
      "text/html": [
       "<pre style=\"white-space:pre;overflow-x:auto;line-height:normal;font-family:Menlo,'DejaVu Sans Mono',consolas,'Courier New',monospace\">08:42:30.496 | <span style=\"color: #008080; text-decoration-color: #008080\">INFO</span>    | Created flow run<span style=\"color: #800080; text-decoration-color: #800080\"> 'ebony-aardwark'</span> for flow<span style=\"color: #800080; text-decoration-color: #800080; font-weight: bold\"> 'Execution: Prediction with ONNX'</span>\n",
       "</pre>\n"
      ],
      "text/plain": [
       "08:42:30.496 | \u001b[36mINFO\u001b[0m    | Created flow run\u001b[35m 'ebony-aardwark'\u001b[0m for flow\u001b[1;35m 'Execution: Prediction with ONNX'\u001b[0m\n"
      ]
     },
     "metadata": {},
     "output_type": "display_data"
    },
    {
     "data": {
      "text/html": [
       "<pre style=\"white-space:pre;overflow-x:auto;line-height:normal;font-family:Menlo,'DejaVu Sans Mono',consolas,'Courier New',monospace\">08:42:30.499 | <span style=\"color: #008080; text-decoration-color: #008080\">INFO</span>    | Action run 'ebony-aardwark' - View at <span style=\"color: #0000ff; text-decoration-color: #0000ff\">https://actions-server-tyfar2-dblzzhtf5q-ew.a.run.app/flow-runs/flow-run/76da3fcb-288a-4288-ab72-dde4136831f1</span>\n",
       "</pre>\n"
      ],
      "text/plain": [
       "08:42:30.499 | \u001b[36mINFO\u001b[0m    | Action run 'ebony-aardwark' - View at \u001b[94mhttps://actions-server-tyfar2-dblzzhtf5q-ew.a.run.app/flow-runs/flow-run/76da3fcb-288a-4288-ab72-dde4136831f1\u001b[0m\n"
      ]
     },
     "metadata": {},
     "output_type": "display_data"
    },
    {
     "data": {
      "text/html": [
       "<pre style=\"white-space:pre;overflow-x:auto;line-height:normal;font-family:Menlo,'DejaVu Sans Mono',consolas,'Courier New',monospace\">08:42:31.088 | <span style=\"color: #008080; text-decoration-color: #008080\">INFO</span>    | Action run 'ebony-aardwark' - Created task run 'Preprocess Image-0' for task 'Preprocess Image'\n",
       "</pre>\n"
      ],
      "text/plain": [
       "08:42:31.088 | \u001b[36mINFO\u001b[0m    | Action run 'ebony-aardwark' - Created task run 'Preprocess Image-0' for task 'Preprocess Image'\n"
      ]
     },
     "metadata": {},
     "output_type": "display_data"
    },
    {
     "data": {
      "text/html": [
       "<pre style=\"white-space:pre;overflow-x:auto;line-height:normal;font-family:Menlo,'DejaVu Sans Mono',consolas,'Courier New',monospace\">08:42:31.091 | <span style=\"color: #008080; text-decoration-color: #008080\">INFO</span>    | Action run 'ebony-aardwark' - Executing 'Preprocess Image-0' immediately...\n",
       "</pre>\n"
      ],
      "text/plain": [
       "08:42:31.091 | \u001b[36mINFO\u001b[0m    | Action run 'ebony-aardwark' - Executing 'Preprocess Image-0' immediately...\n"
      ]
     },
     "metadata": {},
     "output_type": "display_data"
    },
    {
     "data": {
      "text/html": [
       "<pre style=\"white-space:pre;overflow-x:auto;line-height:normal;font-family:Menlo,'DejaVu Sans Mono',consolas,'Courier New',monospace\">08:42:31.509 | <span style=\"color: #008080; text-decoration-color: #008080\">INFO</span>    | Task run 'Preprocess Image-0' - [Errno 2] No such file or directory: './imgs/zero.png'\n",
       "</pre>\n"
      ],
      "text/plain": [
       "08:42:31.509 | \u001b[36mINFO\u001b[0m    | Task run 'Preprocess Image-0' - [Errno 2] No such file or directory: './imgs/zero.png'\n"
      ]
     },
     "metadata": {},
     "output_type": "display_data"
    },
    {
     "data": {
      "text/html": [
       "<pre style=\"white-space:pre;overflow-x:auto;line-height:normal;font-family:Menlo,'DejaVu Sans Mono',consolas,'Courier New',monospace\">08:42:31.777 | <span style=\"color: #008080; text-decoration-color: #008080\">INFO</span>    | Task run 'Preprocess Image-0' - Finished in state <span style=\"color: #008000; text-decoration-color: #008000\">Completed</span>()\n",
       "</pre>\n"
      ],
      "text/plain": [
       "08:42:31.777 | \u001b[36mINFO\u001b[0m    | Task run 'Preprocess Image-0' - Finished in state \u001b[32mCompleted\u001b[0m()\n"
      ]
     },
     "metadata": {},
     "output_type": "display_data"
    },
    {
     "data": {
      "text/html": [
       "<pre style=\"white-space:pre;overflow-x:auto;line-height:normal;font-family:Menlo,'DejaVu Sans Mono',consolas,'Courier New',monospace\">08:42:31.978 | <span style=\"color: #008080; text-decoration-color: #008080\">INFO</span>    | Action run 'ebony-aardwark' - Created task run 'Prediction with ONNX-0' for task 'Prediction with ONNX'\n",
       "</pre>\n"
      ],
      "text/plain": [
       "08:42:31.978 | \u001b[36mINFO\u001b[0m    | Action run 'ebony-aardwark' - Created task run 'Prediction with ONNX-0' for task 'Prediction with ONNX'\n"
      ]
     },
     "metadata": {},
     "output_type": "display_data"
    },
    {
     "data": {
      "text/html": [
       "<pre style=\"white-space:pre;overflow-x:auto;line-height:normal;font-family:Menlo,'DejaVu Sans Mono',consolas,'Courier New',monospace\">08:42:31.981 | <span style=\"color: #008080; text-decoration-color: #008080\">INFO</span>    | Action run 'ebony-aardwark' - Executing 'Prediction with ONNX-0' immediately...\n",
       "</pre>\n"
      ],
      "text/plain": [
       "08:42:31.981 | \u001b[36mINFO\u001b[0m    | Action run 'ebony-aardwark' - Executing 'Prediction with ONNX-0' immediately...\n"
      ]
     },
     "metadata": {},
     "output_type": "display_data"
    },
    {
     "name": "stderr",
     "output_type": "stream",
     "text": [
      "\u001b[1;31m2024-02-25 08:42:32.483197 [E:onnxruntime:, sequential_executor.cc:514 ExecuteKernel] Non-zero status code returned while running FusedGemm node. Name:'fused /l1/Gemm' Status Message: /Users/runner/work/1/s/include/onnxruntime/core/framework/op_kernel_context.h:42 const T *onnxruntime::OpKernelContext::Input(int) const [T = onnxruntime::Tensor] Missing Input: onnx::Gemm_0\n",
      "\u001b[m\n"
     ]
    },
    {
     "data": {
      "text/html": [
       "<pre style=\"white-space:pre;overflow-x:auto;line-height:normal;font-family:Menlo,'DejaVu Sans Mono',consolas,'Courier New',monospace\">08:42:32.483 | <span style=\"color: #d70000; text-decoration-color: #d70000\">ERROR</span>   | An error occurred in predict: [ONNXRuntimeError] : 6 : RUNTIME_EXCEPTION : Non-zero status code returned while running FusedGemm node. Name:'fused /l1/Gemm' Status Message: /Users/runner/work/1/s/include/onnxruntime/core/framework/op_kernel_context.h:42 const T *onnxruntime::OpKernelContext::Input(int) const [T = onnxruntime::Tensor] Missing Input: onnx::Gemm_0\n",
       "\n",
       "</pre>\n"
      ],
      "text/plain": [
       "08:42:32.483 | \u001b[38;5;160mERROR\u001b[0m   | An error occurred in predict: [ONNXRuntimeError] : 6 : RUNTIME_EXCEPTION : Non-zero status code returned while running FusedGemm node. Name:'fused /l1/Gemm' Status Message: /Users/runner/work/1/s/include/onnxruntime/core/framework/op_kernel_context.h:42 const T *onnxruntime::OpKernelContext::Input(int) const [T = onnxruntime::Tensor] Missing Input: onnx::Gemm_0\n",
       "\n"
      ]
     },
     "metadata": {},
     "output_type": "display_data"
    },
    {
     "data": {
      "text/html": [
       "<pre style=\"white-space:pre;overflow-x:auto;line-height:normal;font-family:Menlo,'DejaVu Sans Mono',consolas,'Courier New',monospace\">08:42:32.487 | <span style=\"color: #008080; text-decoration-color: #008080\">INFO</span>    | Task run 'Prediction with ONNX-0' - Could not infer dtype of NoneType\n",
       "</pre>\n"
      ],
      "text/plain": [
       "08:42:32.487 | \u001b[36mINFO\u001b[0m    | Task run 'Prediction with ONNX-0' - Could not infer dtype of NoneType\n"
      ]
     },
     "metadata": {},
     "output_type": "display_data"
    },
    {
     "data": {
      "text/html": [
       "<pre style=\"white-space:pre;overflow-x:auto;line-height:normal;font-family:Menlo,'DejaVu Sans Mono',consolas,'Courier New',monospace\">08:42:32.705 | <span style=\"color: #008080; text-decoration-color: #008080\">INFO</span>    | Task run 'Prediction with ONNX-0' - Finished in state <span style=\"color: #008000; text-decoration-color: #008000\">Completed</span>()\n",
       "</pre>\n"
      ],
      "text/plain": [
       "08:42:32.705 | \u001b[36mINFO\u001b[0m    | Task run 'Prediction with ONNX-0' - Finished in state \u001b[32mCompleted\u001b[0m()\n"
      ]
     },
     "metadata": {},
     "output_type": "display_data"
    },
    {
     "data": {
      "text/html": [
       "<pre style=\"white-space:pre;overflow-x:auto;line-height:normal;font-family:Menlo,'DejaVu Sans Mono',consolas,'Courier New',monospace\">08:42:32.709 | <span style=\"color: #008080; text-decoration-color: #008080\">INFO</span>    | Action run 'ebony-aardwark' - Predicted Digit: None\n",
       "</pre>\n"
      ],
      "text/plain": [
       "08:42:32.709 | \u001b[36mINFO\u001b[0m    | Action run 'ebony-aardwark' - Predicted Digit: None\n"
      ]
     },
     "metadata": {},
     "output_type": "display_data"
    },
    {
     "data": {
      "text/html": [
       "<pre style=\"white-space:pre;overflow-x:auto;line-height:normal;font-family:Menlo,'DejaVu Sans Mono',consolas,'Courier New',monospace\">08:42:32.922 | <span style=\"color: #008080; text-decoration-color: #008080\">INFO</span>    | Action run 'ebony-aardwark' - Finished in state <span style=\"color: #008000; text-decoration-color: #008000\">Completed</span>('All states completed.')\n",
       "</pre>\n"
      ],
      "text/plain": [
       "08:42:32.922 | \u001b[36mINFO\u001b[0m    | Action run 'ebony-aardwark' - Finished in state \u001b[32mCompleted\u001b[0m('All states completed.')\n"
      ]
     },
     "metadata": {},
     "output_type": "display_data"
    },
    {
     "data": {
      "text/plain": [
       "[Completed(message=None, type=COMPLETED, result=UnpersistedResult(type='unpersisted', artifact_type='result', artifact_description='Unpersisted result of type `NoneType`')),\n",
       " Completed(message=None, type=COMPLETED, result=UnpersistedResult(type='unpersisted', artifact_type='result', artifact_description='Unpersisted result of type `NoneType`'))]"
      ]
     },
     "execution_count": 11,
     "metadata": {},
     "output_type": "execute_result"
    }
   ],
   "source": [
    "from giza_actions.model import GizaModel\n",
    "import torch.nn.functional as F\n",
    "\n",
    "\n",
    "@task(name=f'Preprocess Image')\n",
    "def preprocess_image(image_path):\n",
    "    from PIL import Image\n",
    "    import numpy as np\n",
    "\n",
    "    # Load image, convert to grayscale, resize and normalize\n",
    "    image = Image.open(image_path).convert('L')\n",
    "    # Resize to match the input size of the model\n",
    "    image = image.resize((14, 14))\n",
    "    image = np.array(image).astype('float32') / 255\n",
    "    image = image.reshape(1, 196)  # Reshape to (1, 196) for model input\n",
    "    return image\n",
    "\n",
    "\n",
    "@task(name=f'Prediction with ONNX')\n",
    "def prediction(image):\n",
    "    model = GizaModel(model_path=\"./mnist_model.onnx\")\n",
    "\n",
    "    result = model.predict(\n",
    "        input_feed={\"onnx::Gemm_0\": image}, verifiable=False\n",
    "    )\n",
    "\n",
    "    # Convert result to a PyTorch tensor\n",
    "    result_tensor = torch.tensor(result)\n",
    "    # Apply softmax to convert to probabilities\n",
    "    probabilities = F.softmax(result_tensor, dim=1)\n",
    "    # Use argmax to get the predicted class\n",
    "    predicted_class = torch.argmax(probabilities, dim=1)\n",
    "\n",
    "    return predicted_class.item()\n",
    "\n",
    "\n",
    "@action(name=f'Execution: Prediction with ONNX', log_prints=True )\n",
    "def execution():\n",
    "    image = preprocess_image(\"./imgs/zero.png\")\n",
    "    predicted_digit = prediction(image)\n",
    "    print(f\"Predicted Digit: {predicted_digit}\")\n",
    "\n",
    "    return predicted_digit\n",
    "\n",
    "\n",
    "execution()"
   ]
  },
  {
   "cell_type": "markdown",
   "metadata": {},
   "source": [
    "Now, let's make a prediction with the Cairo model (`veriable=True`)."
   ]
  },
  {
   "cell_type": "code",
   "execution_count": 12,
   "metadata": {},
   "outputs": [
    {
     "name": "stderr",
     "output_type": "stream",
     "text": [
      "/Users/tylerfarnan/anaconda3/lib/python3.11/site-packages/prefect/tasks.py:339: UserWarning: A task named 'Preprocess Image' and defined at '/Users/tylerfarnan/actions-sdk/giza_actions/task.py:7' conflicts with another task. Consider specifying a unique `name` parameter in the task definition:\n",
      "\n",
      " `@task(name='my_unique_name', ...)`\n",
      "  warnings.warn(\n"
     ]
    },
    {
     "data": {
      "text/html": [
       "<pre style=\"white-space:pre;overflow-x:auto;line-height:normal;font-family:Menlo,'DejaVu Sans Mono',consolas,'Courier New',monospace\">08:42:54.546 | <span style=\"color: #008080; text-decoration-color: #008080\">INFO</span>    | Created flow run<span style=\"color: #800080; text-decoration-color: #800080\"> 'aloof-wombat'</span> for flow<span style=\"color: #800080; text-decoration-color: #800080; font-weight: bold\"> 'Execution: Prediction with Cairo'</span>\n",
       "</pre>\n"
      ],
      "text/plain": [
       "08:42:54.546 | \u001b[36mINFO\u001b[0m    | Created flow run\u001b[35m 'aloof-wombat'\u001b[0m for flow\u001b[1;35m 'Execution: Prediction with Cairo'\u001b[0m\n"
      ]
     },
     "metadata": {},
     "output_type": "display_data"
    },
    {
     "data": {
      "text/html": [
       "<pre style=\"white-space:pre;overflow-x:auto;line-height:normal;font-family:Menlo,'DejaVu Sans Mono',consolas,'Courier New',monospace\">08:42:54.549 | <span style=\"color: #008080; text-decoration-color: #008080\">INFO</span>    | Action run 'aloof-wombat' - View at <span style=\"color: #0000ff; text-decoration-color: #0000ff\">https://actions-server-tyfar2-dblzzhtf5q-ew.a.run.app/flow-runs/flow-run/9db3c8f9-f1c4-4234-8072-73c93a908574</span>\n",
       "</pre>\n"
      ],
      "text/plain": [
       "08:42:54.549 | \u001b[36mINFO\u001b[0m    | Action run 'aloof-wombat' - View at \u001b[94mhttps://actions-server-tyfar2-dblzzhtf5q-ew.a.run.app/flow-runs/flow-run/9db3c8f9-f1c4-4234-8072-73c93a908574\u001b[0m\n"
      ]
     },
     "metadata": {},
     "output_type": "display_data"
    },
    {
     "data": {
      "text/html": [
       "<pre style=\"white-space:pre;overflow-x:auto;line-height:normal;font-family:Menlo,'DejaVu Sans Mono',consolas,'Courier New',monospace\">08:42:55.140 | <span style=\"color: #008080; text-decoration-color: #008080\">INFO</span>    | Action run 'aloof-wombat' - Created task run 'Preprocess Image-0' for task 'Preprocess Image'\n",
       "</pre>\n"
      ],
      "text/plain": [
       "08:42:55.140 | \u001b[36mINFO\u001b[0m    | Action run 'aloof-wombat' - Created task run 'Preprocess Image-0' for task 'Preprocess Image'\n"
      ]
     },
     "metadata": {},
     "output_type": "display_data"
    },
    {
     "data": {
      "text/html": [
       "<pre style=\"white-space:pre;overflow-x:auto;line-height:normal;font-family:Menlo,'DejaVu Sans Mono',consolas,'Courier New',monospace\">08:42:55.143 | <span style=\"color: #008080; text-decoration-color: #008080\">INFO</span>    | Action run 'aloof-wombat' - Executing 'Preprocess Image-0' immediately...\n",
       "</pre>\n"
      ],
      "text/plain": [
       "08:42:55.143 | \u001b[36mINFO\u001b[0m    | Action run 'aloof-wombat' - Executing 'Preprocess Image-0' immediately...\n"
      ]
     },
     "metadata": {},
     "output_type": "display_data"
    },
    {
     "data": {
      "text/html": [
       "<pre style=\"white-space:pre;overflow-x:auto;line-height:normal;font-family:Menlo,'DejaVu Sans Mono',consolas,'Courier New',monospace\">08:42:55.573 | <span style=\"color: #008080; text-decoration-color: #008080\">INFO</span>    | Task run 'Preprocess Image-0' - [Errno 2] No such file or directory: './imgs/zero.png'\n",
       "</pre>\n"
      ],
      "text/plain": [
       "08:42:55.573 | \u001b[36mINFO\u001b[0m    | Task run 'Preprocess Image-0' - [Errno 2] No such file or directory: './imgs/zero.png'\n"
      ]
     },
     "metadata": {},
     "output_type": "display_data"
    },
    {
     "data": {
      "text/html": [
       "<pre style=\"white-space:pre;overflow-x:auto;line-height:normal;font-family:Menlo,'DejaVu Sans Mono',consolas,'Courier New',monospace\">08:42:55.844 | <span style=\"color: #008080; text-decoration-color: #008080\">INFO</span>    | Task run 'Preprocess Image-0' - Finished in state <span style=\"color: #008000; text-decoration-color: #008000\">Completed</span>()\n",
       "</pre>\n"
      ],
      "text/plain": [
       "08:42:55.844 | \u001b[36mINFO\u001b[0m    | Task run 'Preprocess Image-0' - Finished in state \u001b[32mCompleted\u001b[0m()\n"
      ]
     },
     "metadata": {},
     "output_type": "display_data"
    },
    {
     "data": {
      "text/html": [
       "<pre style=\"white-space:pre;overflow-x:auto;line-height:normal;font-family:Menlo,'DejaVu Sans Mono',consolas,'Courier New',monospace\">08:42:56.048 | <span style=\"color: #008080; text-decoration-color: #008080\">INFO</span>    | Action run 'aloof-wombat' - Created task run 'Prediction with Cairo-0' for task 'Prediction with Cairo'\n",
       "</pre>\n"
      ],
      "text/plain": [
       "08:42:56.048 | \u001b[36mINFO\u001b[0m    | Action run 'aloof-wombat' - Created task run 'Prediction with Cairo-0' for task 'Prediction with Cairo'\n"
      ]
     },
     "metadata": {},
     "output_type": "display_data"
    },
    {
     "data": {
      "text/html": [
       "<pre style=\"white-space:pre;overflow-x:auto;line-height:normal;font-family:Menlo,'DejaVu Sans Mono',consolas,'Courier New',monospace\">08:42:56.051 | <span style=\"color: #008080; text-decoration-color: #008080\">INFO</span>    | Action run 'aloof-wombat' - Executing 'Prediction with Cairo-0' immediately...\n",
       "</pre>\n"
      ],
      "text/plain": [
       "08:42:56.051 | \u001b[36mINFO\u001b[0m    | Action run 'aloof-wombat' - Executing 'Prediction with Cairo-0' immediately...\n"
      ]
     },
     "metadata": {},
     "output_type": "display_data"
    },
    {
     "data": {
      "text/html": [
       "<pre style=\"white-space:pre;overflow-x:auto;line-height:normal;font-family:Menlo,'DejaVu Sans Mono',consolas,'Courier New',monospace\">08:42:56.869 | <span style=\"color: #d70000; text-decoration-color: #d70000\">ERROR</span>   | An error occurred in predict: Unsupported data type for serialization\n",
       "</pre>\n"
      ],
      "text/plain": [
       "08:42:56.869 | \u001b[38;5;160mERROR\u001b[0m   | An error occurred in predict: Unsupported data type for serialization\n"
      ]
     },
     "metadata": {},
     "output_type": "display_data"
    },
    {
     "data": {
      "text/html": [
       "<pre style=\"white-space:pre;overflow-x:auto;line-height:normal;font-family:Menlo,'DejaVu Sans Mono',consolas,'Courier New',monospace\">08:42:56.873 | <span style=\"color: #008080; text-decoration-color: #008080\">INFO</span>    | Task run 'Prediction with Cairo-0' - Could not infer dtype of NoneType\n",
       "</pre>\n"
      ],
      "text/plain": [
       "08:42:56.873 | \u001b[36mINFO\u001b[0m    | Task run 'Prediction with Cairo-0' - Could not infer dtype of NoneType\n"
      ]
     },
     "metadata": {},
     "output_type": "display_data"
    },
    {
     "data": {
      "text/html": [
       "<pre style=\"white-space:pre;overflow-x:auto;line-height:normal;font-family:Menlo,'DejaVu Sans Mono',consolas,'Courier New',monospace\">08:42:57.086 | <span style=\"color: #008080; text-decoration-color: #008080\">INFO</span>    | Task run 'Prediction with Cairo-0' - Finished in state <span style=\"color: #008000; text-decoration-color: #008000\">Completed</span>()\n",
       "</pre>\n"
      ],
      "text/plain": [
       "08:42:57.086 | \u001b[36mINFO\u001b[0m    | Task run 'Prediction with Cairo-0' - Finished in state \u001b[32mCompleted\u001b[0m()\n"
      ]
     },
     "metadata": {},
     "output_type": "display_data"
    },
    {
     "data": {
      "text/html": [
       "<pre style=\"white-space:pre;overflow-x:auto;line-height:normal;font-family:Menlo,'DejaVu Sans Mono',consolas,'Courier New',monospace\">08:42:57.090 | <span style=\"color: #d70000; text-decoration-color: #d70000\">ERROR</span>   | Action run 'aloof-wombat' - Encountered exception during execution:\n",
       "Traceback (most recent call last):\n",
       "  File \"/Users/tylerfarnan/anaconda3/lib/python3.11/site-packages/prefect/engine.py\", line 863, in orchestrate_flow_run\n",
       "    result = await flow_call.aresult()\n",
       "             ^^^^^^^^^^^^^^^^^^^^^^^^^\n",
       "  File \"/Users/tylerfarnan/anaconda3/lib/python3.11/site-packages/prefect/_internal/concurrency/calls.py\", line 326, in aresult\n",
       "    return await asyncio.wrap_future(self.future)\n",
       "           ^^^^^^^^^^^^^^^^^^^^^^^^^^^^^^^^^^^^^^\n",
       "  File \"/Users/tylerfarnan/anaconda3/lib/python3.11/site-packages/prefect/_internal/concurrency/calls.py\", line 351, in _run_sync\n",
       "    result = self.fn(*self.args, **self.kwargs)\n",
       "             ^^^^^^^^^^^^^^^^^^^^^^^^^^^^^^^^^^\n",
       "  File \"/Users/tylerfarnan/actions-sdk/giza_actions/action.py\", line 152, in safe_func\n",
       "    return func(**kwargs)\n",
       "           ^^^^^^^^^^^^^^\n",
       "  File \"/var/folders/7l/7zdj_j4x3ys_gkhklw77qsf80000gn/T/ipykernel_55072/4064588564.py\", line 39, in execution\n",
       "    (result, request_id) = prediction(image, MODEL_ID, VERSION_ID)\n",
       "    ^^^^^^^^^^^^^^^^^^^^\n",
       "TypeError: cannot unpack non-iterable NoneType object\n",
       "</pre>\n"
      ],
      "text/plain": [
       "08:42:57.090 | \u001b[38;5;160mERROR\u001b[0m   | Action run 'aloof-wombat' - Encountered exception during execution:\n",
       "Traceback (most recent call last):\n",
       "  File \"/Users/tylerfarnan/anaconda3/lib/python3.11/site-packages/prefect/engine.py\", line 863, in orchestrate_flow_run\n",
       "    result = await flow_call.aresult()\n",
       "             ^^^^^^^^^^^^^^^^^^^^^^^^^\n",
       "  File \"/Users/tylerfarnan/anaconda3/lib/python3.11/site-packages/prefect/_internal/concurrency/calls.py\", line 326, in aresult\n",
       "    return await asyncio.wrap_future(self.future)\n",
       "           ^^^^^^^^^^^^^^^^^^^^^^^^^^^^^^^^^^^^^^\n",
       "  File \"/Users/tylerfarnan/anaconda3/lib/python3.11/site-packages/prefect/_internal/concurrency/calls.py\", line 351, in _run_sync\n",
       "    result = self.fn(*self.args, **self.kwargs)\n",
       "             ^^^^^^^^^^^^^^^^^^^^^^^^^^^^^^^^^^\n",
       "  File \"/Users/tylerfarnan/actions-sdk/giza_actions/action.py\", line 152, in safe_func\n",
       "    return func(**kwargs)\n",
       "           ^^^^^^^^^^^^^^\n",
       "  File \"/var/folders/7l/7zdj_j4x3ys_gkhklw77qsf80000gn/T/ipykernel_55072/4064588564.py\", line 39, in execution\n",
       "    (result, request_id) = prediction(image, MODEL_ID, VERSION_ID)\n",
       "    ^^^^^^^^^^^^^^^^^^^^\n",
       "TypeError: cannot unpack non-iterable NoneType object\n"
      ]
     },
     "metadata": {},
     "output_type": "display_data"
    },
    {
     "data": {
      "text/html": [
       "<pre style=\"white-space:pre;overflow-x:auto;line-height:normal;font-family:Menlo,'DejaVu Sans Mono',consolas,'Courier New',monospace\">08:42:57.358 | <span style=\"color: #d70000; text-decoration-color: #d70000\">ERROR</span>   | Action run 'aloof-wombat' - Finished in state <span style=\"color: #d70000; text-decoration-color: #d70000\">Failed</span>('Flow run encountered an exception. TypeError: cannot unpack non-iterable NoneType object')\n",
       "</pre>\n"
      ],
      "text/plain": [
       "08:42:57.358 | \u001b[38;5;160mERROR\u001b[0m   | Action run 'aloof-wombat' - Finished in state \u001b[38;5;160mFailed\u001b[0m('Flow run encountered an exception. TypeError: cannot unpack non-iterable NoneType object')\n"
      ]
     },
     "metadata": {},
     "output_type": "display_data"
    },
    {
     "ename": "TypeError",
     "evalue": "cannot unpack non-iterable NoneType object",
     "output_type": "error",
     "traceback": [
      "\u001b[0;31m---------------------------------------------------------------------------\u001b[0m",
      "\u001b[0;31mTypeError\u001b[0m                                 Traceback (most recent call last)",
      "Cell \u001b[0;32mIn[12], line 46\u001b[0m\n\u001b[1;32m     41\u001b[0m     \u001b[38;5;28mprint\u001b[39m(\u001b[38;5;124m\"\u001b[39m\u001b[38;5;124mRequest id: \u001b[39m\u001b[38;5;124m\"\u001b[39m, request_id)\n\u001b[1;32m     43\u001b[0m     \u001b[38;5;28;01mreturn\u001b[39;00m result, request_id\n\u001b[0;32m---> 46\u001b[0m execution()\n",
      "File \u001b[0;32m~/anaconda3/lib/python3.11/site-packages/prefect/flows.py:1130\u001b[0m, in \u001b[0;36mFlow.__call__\u001b[0;34m(self, return_state, wait_for, *args, **kwargs)\u001b[0m\n\u001b[1;32m   1125\u001b[0m \u001b[38;5;28;01mif\u001b[39;00m task_viz_tracker:\n\u001b[1;32m   1126\u001b[0m     \u001b[38;5;66;03m# this is a subflow, for now return a single task and do not go further\u001b[39;00m\n\u001b[1;32m   1127\u001b[0m     \u001b[38;5;66;03m# we can add support for exploring subflows for tasks in the future.\u001b[39;00m\n\u001b[1;32m   1128\u001b[0m     \u001b[38;5;28;01mreturn\u001b[39;00m track_viz_task(\u001b[38;5;28mself\u001b[39m\u001b[38;5;241m.\u001b[39misasync, \u001b[38;5;28mself\u001b[39m\u001b[38;5;241m.\u001b[39mname, parameters)\n\u001b[0;32m-> 1130\u001b[0m \u001b[38;5;28;01mreturn\u001b[39;00m enter_flow_run_engine_from_flow_call(\n\u001b[1;32m   1131\u001b[0m     \u001b[38;5;28mself\u001b[39m,\n\u001b[1;32m   1132\u001b[0m     parameters,\n\u001b[1;32m   1133\u001b[0m     wait_for\u001b[38;5;241m=\u001b[39mwait_for,\n\u001b[1;32m   1134\u001b[0m     return_type\u001b[38;5;241m=\u001b[39mreturn_type,\n\u001b[1;32m   1135\u001b[0m )\n",
      "File \u001b[0;32m~/anaconda3/lib/python3.11/site-packages/prefect/engine.py:295\u001b[0m, in \u001b[0;36menter_flow_run_engine_from_flow_call\u001b[0;34m(flow, parameters, wait_for, return_type)\u001b[0m\n\u001b[1;32m    288\u001b[0m     retval \u001b[38;5;241m=\u001b[39m from_async\u001b[38;5;241m.\u001b[39mwait_for_call_in_loop_thread(\n\u001b[1;32m    289\u001b[0m         begin_run,\n\u001b[1;32m    290\u001b[0m         done_callbacks\u001b[38;5;241m=\u001b[39mdone_callbacks,\n\u001b[1;32m    291\u001b[0m         contexts\u001b[38;5;241m=\u001b[39mcontexts,\n\u001b[1;32m    292\u001b[0m     )\n\u001b[1;32m    294\u001b[0m \u001b[38;5;28;01melse\u001b[39;00m:\n\u001b[0;32m--> 295\u001b[0m     retval \u001b[38;5;241m=\u001b[39m from_sync\u001b[38;5;241m.\u001b[39mwait_for_call_in_loop_thread(\n\u001b[1;32m    296\u001b[0m         begin_run,\n\u001b[1;32m    297\u001b[0m         done_callbacks\u001b[38;5;241m=\u001b[39mdone_callbacks,\n\u001b[1;32m    298\u001b[0m         contexts\u001b[38;5;241m=\u001b[39mcontexts,\n\u001b[1;32m    299\u001b[0m     )\n\u001b[1;32m    301\u001b[0m \u001b[38;5;28;01mreturn\u001b[39;00m retval\n",
      "File \u001b[0;32m~/anaconda3/lib/python3.11/site-packages/prefect/_internal/concurrency/api.py:243\u001b[0m, in \u001b[0;36mfrom_sync.wait_for_call_in_loop_thread\u001b[0;34m(_from_sync__call, timeout, done_callbacks, contexts)\u001b[0m\n\u001b[1;32m    241\u001b[0m     stack\u001b[38;5;241m.\u001b[39menter_context(context)\n\u001b[1;32m    242\u001b[0m waiter\u001b[38;5;241m.\u001b[39mwait()\n\u001b[0;32m--> 243\u001b[0m \u001b[38;5;28;01mreturn\u001b[39;00m call\u001b[38;5;241m.\u001b[39mresult()\n",
      "File \u001b[0;32m~/anaconda3/lib/python3.11/site-packages/prefect/_internal/concurrency/calls.py:317\u001b[0m, in \u001b[0;36mCall.result\u001b[0;34m(self, timeout)\u001b[0m\n\u001b[1;32m    311\u001b[0m \u001b[38;5;28;01mdef\u001b[39;00m \u001b[38;5;21mresult\u001b[39m(\u001b[38;5;28mself\u001b[39m, timeout: Optional[\u001b[38;5;28mfloat\u001b[39m] \u001b[38;5;241m=\u001b[39m \u001b[38;5;28;01mNone\u001b[39;00m) \u001b[38;5;241m-\u001b[39m\u001b[38;5;241m>\u001b[39m T:\n\u001b[1;32m    312\u001b[0m \u001b[38;5;250m    \u001b[39m\u001b[38;5;124;03m\"\"\"\u001b[39;00m\n\u001b[1;32m    313\u001b[0m \u001b[38;5;124;03m    Wait for the result of the call.\u001b[39;00m\n\u001b[1;32m    314\u001b[0m \n\u001b[1;32m    315\u001b[0m \u001b[38;5;124;03m    Not safe for use from asynchronous contexts.\u001b[39;00m\n\u001b[1;32m    316\u001b[0m \u001b[38;5;124;03m    \"\"\"\u001b[39;00m\n\u001b[0;32m--> 317\u001b[0m     \u001b[38;5;28;01mreturn\u001b[39;00m \u001b[38;5;28mself\u001b[39m\u001b[38;5;241m.\u001b[39mfuture\u001b[38;5;241m.\u001b[39mresult(timeout\u001b[38;5;241m=\u001b[39mtimeout)\n",
      "File \u001b[0;32m~/anaconda3/lib/python3.11/site-packages/prefect/_internal/concurrency/calls.py:178\u001b[0m, in \u001b[0;36mFuture.result\u001b[0;34m(self, timeout)\u001b[0m\n\u001b[1;32m    176\u001b[0m     \u001b[38;5;28;01mraise\u001b[39;00m CancelledError()\n\u001b[1;32m    177\u001b[0m \u001b[38;5;28;01melif\u001b[39;00m \u001b[38;5;28mself\u001b[39m\u001b[38;5;241m.\u001b[39m_state \u001b[38;5;241m==\u001b[39m FINISHED:\n\u001b[0;32m--> 178\u001b[0m     \u001b[38;5;28;01mreturn\u001b[39;00m \u001b[38;5;28mself\u001b[39m\u001b[38;5;241m.\u001b[39m__get_result()\n\u001b[1;32m    180\u001b[0m \u001b[38;5;28mself\u001b[39m\u001b[38;5;241m.\u001b[39m_condition\u001b[38;5;241m.\u001b[39mwait(timeout)\n\u001b[1;32m    182\u001b[0m \u001b[38;5;28;01mif\u001b[39;00m \u001b[38;5;28mself\u001b[39m\u001b[38;5;241m.\u001b[39m_state \u001b[38;5;129;01min\u001b[39;00m [CANCELLED, CANCELLED_AND_NOTIFIED]:\n\u001b[1;32m    183\u001b[0m     \u001b[38;5;66;03m# Raise Prefect cancelled error instead of\u001b[39;00m\n\u001b[1;32m    184\u001b[0m     \u001b[38;5;66;03m# `concurrent.futures._base.CancelledError`\u001b[39;00m\n",
      "File \u001b[0;32m~/anaconda3/lib/python3.11/concurrent/futures/_base.py:401\u001b[0m, in \u001b[0;36mFuture.__get_result\u001b[0;34m(self)\u001b[0m\n\u001b[1;32m    399\u001b[0m \u001b[38;5;28;01mif\u001b[39;00m \u001b[38;5;28mself\u001b[39m\u001b[38;5;241m.\u001b[39m_exception:\n\u001b[1;32m    400\u001b[0m     \u001b[38;5;28;01mtry\u001b[39;00m:\n\u001b[0;32m--> 401\u001b[0m         \u001b[38;5;28;01mraise\u001b[39;00m \u001b[38;5;28mself\u001b[39m\u001b[38;5;241m.\u001b[39m_exception\n\u001b[1;32m    402\u001b[0m     \u001b[38;5;28;01mfinally\u001b[39;00m:\n\u001b[1;32m    403\u001b[0m         \u001b[38;5;66;03m# Break a reference cycle with the exception in self._exception\u001b[39;00m\n\u001b[1;32m    404\u001b[0m         \u001b[38;5;28mself\u001b[39m \u001b[38;5;241m=\u001b[39m \u001b[38;5;28;01mNone\u001b[39;00m\n",
      "File \u001b[0;32m~/anaconda3/lib/python3.11/site-packages/prefect/_internal/concurrency/calls.py:388\u001b[0m, in \u001b[0;36mCall._run_async\u001b[0;34m(***failed resolving arguments***)\u001b[0m\n\u001b[1;32m    386\u001b[0m \u001b[38;5;28;01mwith\u001b[39;00m \u001b[38;5;28mself\u001b[39m\u001b[38;5;241m.\u001b[39mfuture\u001b[38;5;241m.\u001b[39menforce_async_deadline() \u001b[38;5;28;01mas\u001b[39;00m cancel_scope:\n\u001b[1;32m    387\u001b[0m     \u001b[38;5;28;01mtry\u001b[39;00m:\n\u001b[0;32m--> 388\u001b[0m         result \u001b[38;5;241m=\u001b[39m \u001b[38;5;28;01mawait\u001b[39;00m coro\n\u001b[1;32m    389\u001b[0m     \u001b[38;5;28;01mfinally\u001b[39;00m:\n\u001b[1;32m    390\u001b[0m         \u001b[38;5;66;03m# Forget this call's arguments in order to free up any memory\u001b[39;00m\n\u001b[1;32m    391\u001b[0m         \u001b[38;5;66;03m# that may be referenced by them; after a call has happened,\u001b[39;00m\n\u001b[1;32m    392\u001b[0m         \u001b[38;5;66;03m# there's no need to keep a reference to them\u001b[39;00m\n\u001b[1;32m    393\u001b[0m         \u001b[38;5;28mself\u001b[39m\u001b[38;5;241m.\u001b[39margs \u001b[38;5;241m=\u001b[39m \u001b[38;5;28;01mNone\u001b[39;00m\n",
      "File \u001b[0;32m~/anaconda3/lib/python3.11/site-packages/prefect/client/utilities.py:51\u001b[0m, in \u001b[0;36minject_client.<locals>.with_injected_client\u001b[0;34m(*args, **kwargs)\u001b[0m\n\u001b[1;32m     49\u001b[0m \u001b[38;5;28;01masync\u001b[39;00m \u001b[38;5;28;01mwith\u001b[39;00m client_context \u001b[38;5;28;01mas\u001b[39;00m new_client:\n\u001b[1;32m     50\u001b[0m     kwargs\u001b[38;5;241m.\u001b[39msetdefault(\u001b[38;5;124m\"\u001b[39m\u001b[38;5;124mclient\u001b[39m\u001b[38;5;124m\"\u001b[39m, new_client \u001b[38;5;129;01mor\u001b[39;00m client)\n\u001b[0;32m---> 51\u001b[0m     \u001b[38;5;28;01mreturn\u001b[39;00m \u001b[38;5;28;01mawait\u001b[39;00m fn(\u001b[38;5;241m*\u001b[39margs, \u001b[38;5;241m*\u001b[39m\u001b[38;5;241m*\u001b[39mkwargs)\n",
      "File \u001b[0;32m~/anaconda3/lib/python3.11/site-packages/prefect/engine.py:398\u001b[0m, in \u001b[0;36mcreate_then_begin_flow_run\u001b[0;34m(flow, parameters, wait_for, return_type, client, user_thread)\u001b[0m\n\u001b[1;32m    396\u001b[0m     \u001b[38;5;28;01mreturn\u001b[39;00m state\n\u001b[1;32m    397\u001b[0m \u001b[38;5;28;01melif\u001b[39;00m return_type \u001b[38;5;241m==\u001b[39m \u001b[38;5;124m\"\u001b[39m\u001b[38;5;124mresult\u001b[39m\u001b[38;5;124m\"\u001b[39m:\n\u001b[0;32m--> 398\u001b[0m     \u001b[38;5;28;01mreturn\u001b[39;00m \u001b[38;5;28;01mawait\u001b[39;00m state\u001b[38;5;241m.\u001b[39mresult(fetch\u001b[38;5;241m=\u001b[39m\u001b[38;5;28;01mTrue\u001b[39;00m)\n\u001b[1;32m    399\u001b[0m \u001b[38;5;28;01melse\u001b[39;00m:\n\u001b[1;32m    400\u001b[0m     \u001b[38;5;28;01mraise\u001b[39;00m \u001b[38;5;167;01mValueError\u001b[39;00m(\u001b[38;5;124mf\u001b[39m\u001b[38;5;124m\"\u001b[39m\u001b[38;5;124mInvalid return type for flow engine \u001b[39m\u001b[38;5;132;01m{\u001b[39;00mreturn_type\u001b[38;5;132;01m!r}\u001b[39;00m\u001b[38;5;124m.\u001b[39m\u001b[38;5;124m\"\u001b[39m)\n",
      "File \u001b[0;32m~/anaconda3/lib/python3.11/site-packages/prefect/states.py:91\u001b[0m, in \u001b[0;36m_get_state_result\u001b[0;34m(state, raise_on_failure)\u001b[0m\n\u001b[1;32m     84\u001b[0m     \u001b[38;5;28;01mraise\u001b[39;00m UnfinishedRun(\n\u001b[1;32m     85\u001b[0m         \u001b[38;5;124mf\u001b[39m\u001b[38;5;124m\"\u001b[39m\u001b[38;5;124mRun is in \u001b[39m\u001b[38;5;132;01m{\u001b[39;00mstate\u001b[38;5;241m.\u001b[39mtype\u001b[38;5;241m.\u001b[39mname\u001b[38;5;132;01m}\u001b[39;00m\u001b[38;5;124m state, its result is not available.\u001b[39m\u001b[38;5;124m\"\u001b[39m\n\u001b[1;32m     86\u001b[0m     )\n\u001b[1;32m     88\u001b[0m \u001b[38;5;28;01mif\u001b[39;00m raise_on_failure \u001b[38;5;129;01mand\u001b[39;00m (\n\u001b[1;32m     89\u001b[0m     state\u001b[38;5;241m.\u001b[39mis_crashed() \u001b[38;5;129;01mor\u001b[39;00m state\u001b[38;5;241m.\u001b[39mis_failed() \u001b[38;5;129;01mor\u001b[39;00m state\u001b[38;5;241m.\u001b[39mis_cancelled()\n\u001b[1;32m     90\u001b[0m ):\n\u001b[0;32m---> 91\u001b[0m     \u001b[38;5;28;01mraise\u001b[39;00m \u001b[38;5;28;01mawait\u001b[39;00m get_state_exception(state)\n\u001b[1;32m     93\u001b[0m \u001b[38;5;28;01mif\u001b[39;00m \u001b[38;5;28misinstance\u001b[39m(state\u001b[38;5;241m.\u001b[39mdata, DataDocument):\n\u001b[1;32m     94\u001b[0m     result \u001b[38;5;241m=\u001b[39m result_from_state_with_data_document(\n\u001b[1;32m     95\u001b[0m         state, raise_on_failure\u001b[38;5;241m=\u001b[39mraise_on_failure\n\u001b[1;32m     96\u001b[0m     )\n",
      "File \u001b[0;32m~/anaconda3/lib/python3.11/site-packages/prefect/engine.py:863\u001b[0m, in \u001b[0;36morchestrate_flow_run\u001b[0;34m(flow, flow_run, parameters, wait_for, interruptible, client, partial_flow_run_context, user_thread)\u001b[0m\n\u001b[1;32m    858\u001b[0m         \u001b[38;5;28;01melse\u001b[39;00m:\n\u001b[1;32m    859\u001b[0m             from_async\u001b[38;5;241m.\u001b[39mcall_soon_in_new_thread(\n\u001b[1;32m    860\u001b[0m                 flow_call, timeout\u001b[38;5;241m=\u001b[39mflow\u001b[38;5;241m.\u001b[39mtimeout_seconds\n\u001b[1;32m    861\u001b[0m             )\n\u001b[0;32m--> 863\u001b[0m         result \u001b[38;5;241m=\u001b[39m \u001b[38;5;28;01mawait\u001b[39;00m flow_call\u001b[38;5;241m.\u001b[39maresult()\n\u001b[1;32m    865\u001b[0m         waited_for_task_runs \u001b[38;5;241m=\u001b[39m \u001b[38;5;28;01mawait\u001b[39;00m wait_for_task_runs_and_report_crashes(\n\u001b[1;32m    866\u001b[0m             flow_run_context\u001b[38;5;241m.\u001b[39mtask_run_futures, client\u001b[38;5;241m=\u001b[39mclient\n\u001b[1;32m    867\u001b[0m         )\n\u001b[1;32m    868\u001b[0m \u001b[38;5;28;01mexcept\u001b[39;00m PausedRun \u001b[38;5;28;01mas\u001b[39;00m exc:\n\u001b[1;32m    869\u001b[0m     \u001b[38;5;66;03m# could get raised either via utility or by returning Paused from a task run\u001b[39;00m\n\u001b[1;32m    870\u001b[0m     \u001b[38;5;66;03m# if a task run pauses, we set its state as the flow's state\u001b[39;00m\n\u001b[1;32m    871\u001b[0m     \u001b[38;5;66;03m# to preserve reschedule and timeout behavior\u001b[39;00m\n",
      "File \u001b[0;32m~/anaconda3/lib/python3.11/site-packages/prefect/_internal/concurrency/calls.py:326\u001b[0m, in \u001b[0;36mCall.aresult\u001b[0;34m(self)\u001b[0m\n\u001b[1;32m    320\u001b[0m \u001b[38;5;250m\u001b[39m\u001b[38;5;124;03m\"\"\"\u001b[39;00m\n\u001b[1;32m    321\u001b[0m \u001b[38;5;124;03mWait for the result of the call.\u001b[39;00m\n\u001b[1;32m    322\u001b[0m \n\u001b[1;32m    323\u001b[0m \u001b[38;5;124;03mFor use from asynchronous contexts.\u001b[39;00m\n\u001b[1;32m    324\u001b[0m \u001b[38;5;124;03m\"\"\"\u001b[39;00m\n\u001b[1;32m    325\u001b[0m \u001b[38;5;28;01mtry\u001b[39;00m:\n\u001b[0;32m--> 326\u001b[0m     \u001b[38;5;28;01mreturn\u001b[39;00m \u001b[38;5;28;01mawait\u001b[39;00m asyncio\u001b[38;5;241m.\u001b[39mwrap_future(\u001b[38;5;28mself\u001b[39m\u001b[38;5;241m.\u001b[39mfuture)\n\u001b[1;32m    327\u001b[0m \u001b[38;5;28;01mexcept\u001b[39;00m asyncio\u001b[38;5;241m.\u001b[39mCancelledError \u001b[38;5;28;01mas\u001b[39;00m exc:\n\u001b[1;32m    328\u001b[0m     \u001b[38;5;28;01mraise\u001b[39;00m CancelledError() \u001b[38;5;28;01mfrom\u001b[39;00m \u001b[38;5;21;01mexc\u001b[39;00m\n",
      "File \u001b[0;32m~/anaconda3/lib/python3.11/site-packages/prefect/_internal/concurrency/calls.py:351\u001b[0m, in \u001b[0;36mCall._run_sync\u001b[0;34m(***failed resolving arguments***)\u001b[0m\n\u001b[1;32m    349\u001b[0m \u001b[38;5;28;01mwith\u001b[39;00m \u001b[38;5;28mself\u001b[39m\u001b[38;5;241m.\u001b[39mfuture\u001b[38;5;241m.\u001b[39menforce_sync_deadline() \u001b[38;5;28;01mas\u001b[39;00m cancel_scope:\n\u001b[1;32m    350\u001b[0m     \u001b[38;5;28;01mtry\u001b[39;00m:\n\u001b[0;32m--> 351\u001b[0m         result \u001b[38;5;241m=\u001b[39m \u001b[38;5;28mself\u001b[39m\u001b[38;5;241m.\u001b[39mfn(\u001b[38;5;241m*\u001b[39m\u001b[38;5;28mself\u001b[39m\u001b[38;5;241m.\u001b[39margs, \u001b[38;5;241m*\u001b[39m\u001b[38;5;241m*\u001b[39m\u001b[38;5;28mself\u001b[39m\u001b[38;5;241m.\u001b[39mkwargs)\n\u001b[1;32m    352\u001b[0m     \u001b[38;5;28;01mfinally\u001b[39;00m:\n\u001b[1;32m    353\u001b[0m         \u001b[38;5;66;03m# Forget this call's arguments in order to free up any memory\u001b[39;00m\n\u001b[1;32m    354\u001b[0m         \u001b[38;5;66;03m# that may be referenced by them; after a call has happened,\u001b[39;00m\n\u001b[1;32m    355\u001b[0m         \u001b[38;5;66;03m# there's no need to keep a reference to them\u001b[39;00m\n\u001b[1;32m    356\u001b[0m         \u001b[38;5;28mself\u001b[39m\u001b[38;5;241m.\u001b[39margs \u001b[38;5;241m=\u001b[39m \u001b[38;5;28;01mNone\u001b[39;00m\n",
      "File \u001b[0;32m~/actions-sdk/giza_actions/action.py:152\u001b[0m, in \u001b[0;36maction.<locals>.safe_func\u001b[0;34m(**kwargs)\u001b[0m\n\u001b[1;32m    141\u001b[0m \u001b[38;5;129m@wraps\u001b[39m(func)\n\u001b[1;32m    142\u001b[0m \u001b[38;5;28;01mdef\u001b[39;00m \u001b[38;5;21msafe_func\u001b[39m(\u001b[38;5;241m*\u001b[39m\u001b[38;5;241m*\u001b[39mkwargs):\n\u001b[1;32m    143\u001b[0m \u001b[38;5;250m    \u001b[39m\u001b[38;5;124;03m\"\"\"\u001b[39;00m\n\u001b[1;32m    144\u001b[0m \u001b[38;5;124;03m    A wrapper function that calls the original function with its arguments.\u001b[39;00m\n\u001b[1;32m    145\u001b[0m \n\u001b[0;32m   (...)\u001b[0m\n\u001b[1;32m    150\u001b[0m \u001b[38;5;124;03m        The return value of the original function.\u001b[39;00m\n\u001b[1;32m    151\u001b[0m \u001b[38;5;124;03m    \"\"\"\u001b[39;00m\n\u001b[0;32m--> 152\u001b[0m     \u001b[38;5;28;01mreturn\u001b[39;00m func(\u001b[38;5;241m*\u001b[39m\u001b[38;5;241m*\u001b[39mkwargs)\n",
      "Cell \u001b[0;32mIn[12], line 39\u001b[0m, in \u001b[0;36mexecution\u001b[0;34m()\u001b[0m\n\u001b[1;32m     36\u001b[0m \u001b[38;5;129m@action\u001b[39m(name\u001b[38;5;241m=\u001b[39m\u001b[38;5;124mf\u001b[39m\u001b[38;5;124m'\u001b[39m\u001b[38;5;124mExecution: Prediction with Cairo\u001b[39m\u001b[38;5;124m'\u001b[39m, log_prints\u001b[38;5;241m=\u001b[39m\u001b[38;5;28;01mTrue\u001b[39;00m)\n\u001b[1;32m     37\u001b[0m \u001b[38;5;28;01mdef\u001b[39;00m \u001b[38;5;21mexecution\u001b[39m():\n\u001b[1;32m     38\u001b[0m     image \u001b[38;5;241m=\u001b[39m preprocess_image(\u001b[38;5;124m\"\u001b[39m\u001b[38;5;124m./imgs/zero.png\u001b[39m\u001b[38;5;124m\"\u001b[39m)\n\u001b[0;32m---> 39\u001b[0m     (result, request_id) \u001b[38;5;241m=\u001b[39m prediction(image, MODEL_ID, VERSION_ID)\n\u001b[1;32m     40\u001b[0m     \u001b[38;5;28mprint\u001b[39m(\u001b[38;5;124m\"\u001b[39m\u001b[38;5;124mResult: \u001b[39m\u001b[38;5;124m\"\u001b[39m, result)\n\u001b[1;32m     41\u001b[0m     \u001b[38;5;28mprint\u001b[39m(\u001b[38;5;124m\"\u001b[39m\u001b[38;5;124mRequest id: \u001b[39m\u001b[38;5;124m\"\u001b[39m, request_id)\n",
      "\u001b[0;31mTypeError\u001b[0m: cannot unpack non-iterable NoneType object"
     ]
    }
   ],
   "source": [
    "from giza_actions.model import GizaModel\n",
    "import torch.nn.functional as F\n",
    "\n",
    "MODEL_ID = 371  # Update with your model ID\n",
    "VERSION_ID = 1  # Update with your version ID\n",
    "\n",
    "@task(name=f'Preprocess Image')\n",
    "def preprocess_image(image_path):\n",
    "    from PIL import Image\n",
    "    import numpy as np\n",
    "\n",
    "    # Load image, convert to grayscale, resize and normalize\n",
    "    image = Image.open(image_path).convert('L')\n",
    "    # Resize to match the input size of the model\n",
    "    image = image.resize((14, 14))\n",
    "    image = np.array(image).astype('float32') / 255\n",
    "    image = image.reshape(1, 196)  # Reshape to (1, 196) for model input\n",
    "    return image\n",
    "\n",
    "@task(name=f'Prediction with Cairo')\n",
    "def prediction(image, model_id, version_id):\n",
    "    model = GizaModel(id=model_id, version=version_id)\n",
    "\n",
    "    (result, request_id) = model.predict(\n",
    "        input_feed={\"image\": image}, verifiable=True, output_dtype=\"Tensor<FP16x16>\"\n",
    "    )\n",
    "\n",
    "    # Convert result to a PyTorch tensor\n",
    "    probabilities = torch.tensor(result)\n",
    "    # Use argmax to get the predicted class\n",
    "    predicted_class = torch.argmax(probabilities, dim=1)\n",
    "\n",
    "    return predicted_class, request_id\n",
    "\n",
    "\n",
    "@action(name=f'Execution: Prediction with Cairo', log_prints=True)\n",
    "def execution():\n",
    "    image = preprocess_image(\"./imgs/zero.png\")\n",
    "    (result, request_id) = prediction(image, MODEL_ID, VERSION_ID)\n",
    "    print(\"Result: \", result)\n",
    "    print(\"Request id: \", request_id)\n",
    "\n",
    "    return result, request_id\n",
    "\n",
    "\n",
    "execution()"
   ]
  },
  {
   "cell_type": "markdown",
   "metadata": {},
   "source": [
    "## Download and Verify the proof"
   ]
  },
  {
   "cell_type": "markdown",
   "metadata": {},
   "source": [
    "When you ran your model, CairoVM generated trace and memory files under the hood to prove your program. We have initiated a proof job on your behalf and completed the proof."
   ]
  },
  {
   "cell_type": "markdown",
   "metadata": {},
   "source": [
    "In the code below, we will download the ZK proof generated in the proof-job."
   ]
  },
  {
   "cell_type": "code",
   "execution_count": 22,
   "metadata": {},
   "outputs": [
    {
     "ename": "KeyError",
     "evalue": "'download_url'",
     "output_type": "error",
     "traceback": [
      "\u001b[0;31m---------------------------------------------------------------------------\u001b[0m",
      "\u001b[0;31mKeyError\u001b[0m                                  Traceback (most recent call last)",
      "Cell \u001b[0;32mIn[22], line 14\u001b[0m\n\u001b[1;32m     10\u001b[0m url \u001b[38;5;241m=\u001b[39m \u001b[38;5;124mf\u001b[39m\u001b[38;5;124m'\u001b[39m\u001b[38;5;132;01m{\u001b[39;00mAPI_HOST\u001b[38;5;132;01m}\u001b[39;00m\u001b[38;5;124m/api/v1/models/\u001b[39m\u001b[38;5;132;01m{\u001b[39;00mMODEL_ID\u001b[38;5;132;01m}\u001b[39;00m\u001b[38;5;124m/versions/\u001b[39m\u001b[38;5;132;01m{\u001b[39;00mVERSION_ID\u001b[38;5;132;01m}\u001b[39;00m\u001b[38;5;124m/deployments/\u001b[39m\u001b[38;5;132;01m{\u001b[39;00mDEPLOYMENT_ID\u001b[38;5;132;01m}\u001b[39;00m\u001b[38;5;124m/proofs/\u001b[39m\u001b[38;5;132;01m{\u001b[39;00mREQUEST_ID\u001b[38;5;132;01m}\u001b[39;00m\u001b[38;5;124m:download\u001b[39m\u001b[38;5;124m'\u001b[39m\n\u001b[1;32m     12\u001b[0m headers \u001b[38;5;241m=\u001b[39m {\u001b[38;5;124m\"\u001b[39m\u001b[38;5;124mX-API-KEY\u001b[39m\u001b[38;5;124m\"\u001b[39m: API_KEY}\n\u001b[0;32m---> 14\u001b[0m d_url \u001b[38;5;241m=\u001b[39m requests\u001b[38;5;241m.\u001b[39mget(url, headers\u001b[38;5;241m=\u001b[39mheaders)\u001b[38;5;241m.\u001b[39mjson()[\u001b[38;5;124m\"\u001b[39m\u001b[38;5;124mdownload_url\u001b[39m\u001b[38;5;124m\"\u001b[39m]\n\u001b[1;32m     16\u001b[0m proof \u001b[38;5;241m=\u001b[39m requests\u001b[38;5;241m.\u001b[39mget(d_url)\n\u001b[1;32m     18\u001b[0m \u001b[38;5;28;01mwith\u001b[39;00m \u001b[38;5;28mopen\u001b[39m(\u001b[38;5;124m\"\u001b[39m\u001b[38;5;124mzk.proof\u001b[39m\u001b[38;5;124m\"\u001b[39m, \u001b[38;5;124m\"\u001b[39m\u001b[38;5;124mwb\u001b[39m\u001b[38;5;124m\"\u001b[39m) \u001b[38;5;28;01mas\u001b[39;00m f:\n",
      "\u001b[0;31mKeyError\u001b[0m: 'download_url'"
     ]
    }
   ],
   "source": [
    "import requests\n",
    "from giza import API_HOST\n",
    "\n",
    "MODEL_ID = 371  # Update with your model ID\n",
    "VERSION_ID = 1  # Update with your version ID\n",
    "DEPLOYMENT_ID = 49  # Update with your deployment id\n",
    "REQUEST_ID = \"e46bd24266b94fe0859a231b19e4da60\"  # Update with your request id\n",
    "API_KEY = '\"6fj_WNKVBFnh61fpfpcE5A\"'  # Update with your API key\n",
    "\n",
    "url = f'{API_HOST}/api/v1/models/{MODEL_ID}/versions/{VERSION_ID}/deployments/{DEPLOYMENT_ID}/proofs/{REQUEST_ID}:download'\n",
    "\n",
    "headers = {\"X-API-KEY\": API_KEY}\n",
    "\n",
    "d_url = requests.get(url, headers=headers).json()[\"download_url\"]\n",
    "\n",
    "proof = requests.get(d_url)\n",
    "\n",
    "with open(\"zk.proof\", \"wb\") as f:\n",
    "     f.write(proof.content)"
   ]
  },
  {
   "cell_type": "code",
   "execution_count": 23,
   "metadata": {},
   "outputs": [
    {
     "ename": "NameError",
     "evalue": "name 'd_url' is not defined",
     "output_type": "error",
     "traceback": [
      "\u001b[0;31m---------------------------------------------------------------------------\u001b[0m",
      "\u001b[0;31mNameError\u001b[0m                                 Traceback (most recent call last)",
      "Cell \u001b[0;32mIn[23], line 1\u001b[0m\n\u001b[0;32m----> 1\u001b[0m d_url\n",
      "\u001b[0;31mNameError\u001b[0m: name 'd_url' is not defined"
     ]
    }
   ],
   "source": [
    "d_url"
   ]
  },
  {
   "cell_type": "code",
   "execution_count": 19,
   "metadata": {},
   "outputs": [
    {
     "data": {
      "text/plain": [
       "'https://api.gizatech.xyz/api/v1/models/371/versions/1/deployments/49/proofs/e46bd24266b94fe0859a231b19e4da60:download'"
      ]
     },
     "execution_count": 19,
     "metadata": {},
     "output_type": "execute_result"
    }
   ],
   "source": [
    "url"
   ]
  },
  {
   "cell_type": "markdown",
   "metadata": {},
   "source": [
    "Now, let's verify the proof!\n",
    "All you need to do is simply running: \n",
    "```bash\n",
    "giza verify --proof PATH_TO_PROOF\n",
    "```"
   ]
  },
  {
   "cell_type": "markdown",
   "metadata": {},
   "source": [
    "Voilà 🎉! You've learned how to use the entire Giza stack, from training your model to transpiling it to Cairo for verifiable execution. You've also learned how to verify the proof. We hope you've enjoyed this journey! If you have any questions, please feel free to join us in our [Discord](https://discord.gg/zF2dxSYk6Z), or [open an issue](https://github.com/gizatechxyz/actions-sdk/issues). "
   ]
  }
 ],
 "metadata": {
  "kernelspec": {
   "display_name": "base",
   "language": "python",
   "name": "base"
  },
  "language_info": {
   "codemirror_mode": {
    "name": "ipython",
    "version": 3
   },
   "file_extension": ".py",
   "mimetype": "text/x-python",
   "name": "python",
   "nbconvert_exporter": "python",
   "pygments_lexer": "ipython3",
   "version": "3.11.3"
  }
 },
 "nbformat": 4,
 "nbformat_minor": 4
}
